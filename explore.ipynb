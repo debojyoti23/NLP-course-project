{
 "cells": [
  {
   "cell_type": "code",
   "execution_count": 1,
   "metadata": {
    "collapsed": true
   },
   "outputs": [],
   "source": [
    "import sqlite3\n",
    "import re\n",
    "import pandas as pd\n",
    "import numpy as np"
   ]
  },
  {
   "cell_type": "code",
   "execution_count": 2,
   "metadata": {
    "collapsed": false
   },
   "outputs": [],
   "source": [
    "from gensim.utils import simple_preprocess\n",
    "from gensim.parsing.preprocessing import STOPWORDS\n",
    "import gensim\n",
    "# import logging\n",
    "# logging.basicConfig(format='%(levelname)s : %(message)s', level=logging.INFO)\n",
    "# logging.root.level = logging.INFO  # ipython sometimes messes up the logging setup; restore"
   ]
  },
  {
   "cell_type": "markdown",
   "metadata": {},
   "source": [
    "## Clean up subject function"
   ]
  },
  {
   "cell_type": "code",
   "execution_count": 3,
   "metadata": {
    "collapsed": false
   },
   "outputs": [],
   "source": [
    "# conn = sqlite3.connect('../hillary-clinton-emails/database.sqlite')\n",
    "# cur = conn.cursor()\n",
    "# cur.execute('pragma table_info(Emails)')\n",
    "# f_1 = 'Id'\n",
    "# f_2 = 'MetadataTo'\n",
    "# f_3 = 'MetadataFrom'\n",
    "# f_4 = 'ExtractedSubject'\n",
    "# f_5 = 'ExtractedDateSent'\n",
    "# f_6 = 'ExtractedBodyText'\n",
    "# f_7 = 'RawText'\n",
    "# cur.execute('select {c1},{c2},{c3},{c4},{c5},{c6},{c7} from Emails'.\\\n",
    "#             format(c1=f_1,c2=f_2,c3=f_3,c4=f_4,c5=f_5,c6=f_6,c7=f_7))\n",
    "# cur.fetchall()\n",
    "# cur.fetchone()\n",
    "# columns_less = ['id','to','from','sub','date','body','raw']\n",
    "# columns = [str(tpl[1]) for tpl in columns]\n",
    "def clean_subject(sub):\n",
    "    email_type = None\n",
    "    if re.match('^[Ff][Ww]',sub)!=None:\n",
    "        email_type='fw'\n",
    "        sub = re.sub('^[Ff][Ww].*:\\s*(.+)',r'\\1',sub)\n",
    "    elif re.match('^[Rr][Ee]:',sub)!=None:\n",
    "        email_type='re'\n",
    "        sub = re.sub('^[Rr][Ee]:\\s*(.+)',r'\\1',sub)\n",
    "    elif re.match('^[Ff][Vv][Vv]:',sub)!=None:\n",
    "        email_type='fvv'\n",
    "        sub = re.sub('^[Ff][Vv][Vv]:\\s*(.+)',r'\\1',sub)\n",
    "    return email_type,sub"
   ]
  },
  {
   "cell_type": "markdown",
   "metadata": {},
   "source": [
    "## Clean up date function"
   ]
  },
  {
   "cell_type": "code",
   "execution_count": 4,
   "metadata": {
    "collapsed": false
   },
   "outputs": [],
   "source": [
    "# txt = 'Thursday, September 30, 2010 9:04 PM'\n",
    "# txt = 'Thu Sep 17 06:03:43 2009'\n",
    "def clean_date_aux(ts):\n",
    "    pat = re.compile('\\'?(?P<weekday>\\w+),?\\s*(?P<month>\\w+) (?P<date>\\d+),?\\s*(?P<year>\\d+) (?P<time>.+) (?P<ampm>[A|P]M)')\n",
    "    pat1 = re.compile('(?P<weekday>.+) (?P<month>.+) (?P<date>.+) (?P<time>.+) (?P<year>.+)')\n",
    "    if ts=='':\n",
    "        return np.NAN\n",
    "    re_obj = None\n",
    "    try:\n",
    "        if pat.match(ts)!=None:\n",
    "            re_obj = pat.match(ts)\n",
    "        elif pat1.match(ts)!=None:\n",
    "            re_obj = pat1.match(ts)\n",
    "        else:\n",
    "            raise\n",
    "        # Process date\n",
    "        month = re_obj.group('month')\n",
    "        day = re_obj.group('date')\n",
    "        year = re_obj.group('year')\n",
    "        time = re_obj.group('time').replace('.',':')\n",
    "        # Check for numeric value of day and year\n",
    "        try:\n",
    "            month = month[:3]\n",
    "            day = int(day)\n",
    "            year = int(year)\n",
    "        except:\n",
    "            raise\n",
    "        # Check time string\n",
    "        if ':' not in time and len(time)>2:\n",
    "            time = time[:-2]+':'+time[-2:]\n",
    "        try:\n",
    "            time = time + ' ' + re_obj.group('ampm')\n",
    "        except:\n",
    "            pass\n",
    "        ts_str = \"{} {} {} {}\".format(month,day,year,time)\n",
    "        try:\n",
    "            pd_ts = pd.to_datetime(ts_str)\n",
    "            return pd_ts\n",
    "        except:\n",
    "            raise\n",
    "    except:\n",
    "        return np.NAN\n",
    "    \n",
    "def clean_date(raw_date):\n",
    "    return clean_date_aux(raw_date)"
   ]
  },
  {
   "cell_type": "markdown",
   "metadata": {},
   "source": [
    "## Tokenize function"
   ]
  },
  {
   "cell_type": "code",
   "execution_count": 5,
   "metadata": {
    "collapsed": true
   },
   "outputs": [],
   "source": [
    "def tokenize(text):\n",
    "    text = text.replace(\"\\n\",\" \")\n",
    "    return [token for token in simple_preprocess(text) if token not in STOPWORDS]"
   ]
  },
  {
   "cell_type": "code",
   "execution_count": 6,
   "metadata": {
    "collapsed": true
   },
   "outputs": [],
   "source": [
    "# Fetch emails\n",
    "conn = sqlite3.connect('../hillary-clinton-emails/database.sqlite')\n",
    "sql = \"\"\"select Id, SenderPersonId, ExtractedDateSent, ExtractedSubject\n",
    ", ExtractedBodyText\n",
    "from Emails\n",
    "\"\"\"\n",
    "emails = pd.read_sql_query(sql,conn)"
   ]
  },
  {
   "cell_type": "code",
   "execution_count": 7,
   "metadata": {
    "collapsed": false
   },
   "outputs": [
    {
     "data": {
      "text/html": [
       "<div>\n",
       "<table border=\"1\" class=\"dataframe\">\n",
       "  <thead>\n",
       "    <tr style=\"text-align: right;\">\n",
       "      <th></th>\n",
       "      <th>Id</th>\n",
       "      <th>SenderPersonId</th>\n",
       "      <th>ExtractedSubject</th>\n",
       "      <th>Email_type</th>\n",
       "    </tr>\n",
       "  </thead>\n",
       "  <tbody>\n",
       "    <tr>\n",
       "      <th>0</th>\n",
       "      <td>1</td>\n",
       "      <td>87</td>\n",
       "      <td>Wow</td>\n",
       "      <td>fw</td>\n",
       "    </tr>\n",
       "    <tr>\n",
       "      <th>1</th>\n",
       "      <td>2</td>\n",
       "      <td></td>\n",
       "      <td></td>\n",
       "      <td>None</td>\n",
       "    </tr>\n",
       "    <tr>\n",
       "      <th>2</th>\n",
       "      <td>3</td>\n",
       "      <td>32</td>\n",
       "      <td>Chris Stevens</td>\n",
       "      <td>re</td>\n",
       "    </tr>\n",
       "    <tr>\n",
       "      <th>3</th>\n",
       "      <td>4</td>\n",
       "      <td>32</td>\n",
       "      <td>Cairo Condemnation - Final</td>\n",
       "      <td>fvv</td>\n",
       "    </tr>\n",
       "    <tr>\n",
       "      <th>4</th>\n",
       "      <td>5</td>\n",
       "      <td>80</td>\n",
       "      <td></td>\n",
       "      <td>None</td>\n",
       "    </tr>\n",
       "  </tbody>\n",
       "</table>\n",
       "</div>"
      ],
      "text/plain": [
       "   Id SenderPersonId            ExtractedSubject Email_type\n",
       "0   1             87                         Wow         fw\n",
       "1   2                                                  None\n",
       "2   3             32               Chris Stevens         re\n",
       "3   4             32  Cairo Condemnation - Final        fvv\n",
       "4   5             80                                   None"
      ]
     },
     "execution_count": 7,
     "metadata": {},
     "output_type": "execute_result"
    }
   ],
   "source": [
    "# Clean up subject\n",
    "temp = emails.ExtractedSubject.apply(clean_subject)\n",
    "emails['ExtractedSubject'] = [tpl[1] for tpl in temp]\n",
    "emails['Email_type'] = email_type = [tpl[0] for tpl in temp]\n",
    "emails[['Id','SenderPersonId','ExtractedSubject','Email_type']].head(5)"
   ]
  },
  {
   "cell_type": "code",
   "execution_count": 8,
   "metadata": {
    "collapsed": false
   },
   "outputs": [
    {
     "name": "stdout",
     "output_type": "stream",
     "text": [
      "Date Range from 2009-03-13 to 2012-12-24\n"
     ]
    },
    {
     "data": {
      "text/plain": [
       "6312"
      ]
     },
     "execution_count": 8,
     "metadata": {},
     "output_type": "execute_result"
    }
   ],
   "source": [
    "# Clean up date\n",
    "emails['Date']=emails.ExtractedDateSent.apply(clean_date)\n",
    "emails.head(10)\n",
    "# emails = emails.dropna(how='any')\n",
    "emails.index = emails.Date\n",
    "emails.sort_index(inplace=True)\n",
    "mindate,maxdate = emails.index.min(),emails.index.max()\n",
    "print(\"Date Range from {} to {}\".format(mindate.date(),maxdate.date()))\n",
    "emails[:'2011-01'].Id.count()"
   ]
  },
  {
   "cell_type": "code",
   "execution_count": 9,
   "metadata": {
    "collapsed": false
   },
   "outputs": [
    {
     "data": {
      "text/plain": [
       "1"
      ]
     },
     "execution_count": 9,
     "metadata": {},
     "output_type": "execute_result"
    }
   ],
   "source": [
    "x=np.array([1,2,3,2])\n",
    "pos = np.where(x==2)\n",
    "pos[0][0]"
   ]
  },
  {
   "cell_type": "markdown",
   "metadata": {},
   "source": [
    "## Find mails with moderate email body size"
   ]
  },
  {
   "cell_type": "code",
   "execution_count": 16,
   "metadata": {
    "collapsed": false
   },
   "outputs": [
    {
     "name": "stderr",
     "output_type": "stream",
     "text": [
      "/home/debojyoti/anaconda2/lib/python2.7/site-packages/ipykernel/__main__.py:10: SettingWithCopyWarning: \n",
      "A value is trying to be set on a copy of a slice from a DataFrame.\n",
      "Try using .loc[row_indexer,col_indexer] = value instead\n",
      "\n",
      "See the caveats in the documentation: http://pandas.pydata.org/pandas-docs/stable/indexing.html#indexing-view-versus-copy\n"
     ]
    },
    {
     "name": "stdout",
     "output_type": "stream",
     "text": [
      "[5009 6172 5204 4960 2880 5454 2794 4227 2722 6163 1859  212 2443 4861 6761\n",
      " 1037   61 5553 5411 1571 3381 2365 3755 4501 5042 7847 5449 5850 1866 4160\n",
      " 5346 5240 4871  811 6218 7257 7513 3512 7170 3655 6270 5303 5482 6579 4880\n",
      "   98 4826 6900 3412 1676 4530 5476 2766 4507 5928 5754 3775 7925 5792 6737\n",
      "   72 4816 5864 4660 4271 5116 1648 1431 6475 5972 4933 1583 1778 6512 5597\n",
      " 5136 3908 5980 6196 3474 5305 3963 4922 5987 7677 7610 2284 4432 6032  345\n",
      " 5733 2967 5139   56 2731 3421 5920 6818 7851 1388 2672 2267 7899 4407 4894\n",
      " 3242 1513 6185 6738 4445   16    6 3449 2492 2479 5424 5180 6679 1582 3717\n",
      " 1549 6747 7583 4286 2507 2649 2529 5149  217 1691 4498 5026 5659 5570 5700\n",
      " 6562  943 3382 6007 1641 4667 6748 2049 7253 2637 2099 4878 6735 6734 4000\n",
      " 1244 6241 1252 3369 6529 3525 5442 3159 1413 6557 6423 4415 2522 5488 5578\n",
      " 6552 2957 7892 2518 3555 6468 3478 4618 4906   53 6174 4305 4626 4655 6686\n",
      " 3310  940 5446 5456 5439 7912 5102 6547 2428 5973 2275  809 2258  123 6725\n",
      " 2928 5478 5729 4622 1494]\n",
      "[16, 14, 14, 14, 14, 14, 2, 2, 8, 14, 14, 11, 14, 14, 9, 10, 2, 14, 10, 11, 19, 14, 14, 10, 11, 11, 11, 11, 11, 10, 11, 11, 11, 13, 13, 11, 13, 13, 4, 9, 11, 7, 14, 14, 10, 2, 11, 11, 11, 14, 11, 16, 9, 9, 2, 1, 10, 13, 1, 10, 1, 14, 1, 1, 10, 8, 10, 1, 10, 11, 11, 11, 2, 15, 11, 14, 9, 9, 9, 9, 9, 11, 11, 9, 9, 9, 4, 10, 11, 11, 11, 10, 11, 11, 11, 10, 10, 11, 11, 17, 10, 16, 16, 16, 16, 16, 10, 16, 16, 16, 14, 8, 11, 14, 14, 6, 16, 16, 10, 16, 16, 8, 16, 16, 16, 10, 2, 16, 11, 10, 16, 16, 16, 8, 10, 10, 16, 2, 16, 14, 2, 10, 16, 16, 16, 2, 11, 16, 16, 16, 14, 10, 8, 8, 10, 16, 16, 10, 8, 14, 10, 10, 11, 10, 11, 14, 6, 4, 11, 4, 14, 16, 11, 11, 11, 10, 4, 4, 11, 11, 16, 14, 16, 16, 16, 8, 2, 16, 11, 10, 11, 16, 16, 14, 10, 10, 17, 16, 5, 5]\n",
      "[5303]\n"
     ]
    }
   ],
   "source": [
    "def write_to_file(item):\n",
    "    print(item[0])\n",
    "#     f_out.write(str(ite))\n",
    "#     f_out.write('\\n')\n",
    "#     f_out.write(emails1[emails['Id']==idx].apply(write_to_file)\n",
    "#     f_out.write('\\n')\n",
    "# Sort emails based on body size\n",
    "emails1 = emails[['Id','ExtractedBodyText']]\n",
    "# Sort\n",
    "emails1['BodyLength'] = emails1.ExtractedBodyText.apply(lambda text:len(text))\n",
    "emails1 = emails1[(emails1['BodyLength']>50) & (emails1['BodyLength']<1000)]\n",
    "emails_sorted = emails1.sort_values('BodyLength',ascending=False)\n",
    "email_text = [txt for txt in emails_sorted.ExtractedBodyText]\n",
    "# load LDA model\n",
    "# lda_model = gensim.models.LdaModel.load('model.lda')\n",
    "# Create BoW\n",
    "email_id = np.array([i for i in emails_sorted['Id']])\n",
    "email_tokens = emails_sorted.ExtractedBodyText.apply(tokenize)\n",
    "email_tokens_stream = [tokens for tokens in email_tokens]\n",
    "vocab = gensim.corpora.Dictionary(email_tokens_stream)\n",
    "    # vocab.filter_extremes(no_below=20,no_above=0.8)\n",
    "email_bow = email_tokens.apply(lambda tokens:vocab.doc2bow(tokens))\n",
    "email_bow = [bow for bow in email_bow]\n",
    "topics = []\n",
    "for i in range(200):\n",
    "    dist = lda_model.get_document_topics(email_bow[i])\n",
    "    best_topics = sorted(dist,key=lambda item:item[1],reverse=True)\n",
    "    topics.append(best_topics[1][0]) # second best topic\n",
    "print(email_id[:200])\n",
    "print(topics)\n",
    "topic_x = [email_id[i] for i,topic in enumerate(topics) if topic==7]\n",
    "print(topic_x)\n",
    "with open('out.txt','w') as f_out:\n",
    "    for idx in topic_x:\n",
    "        pos = np.where(email_id == idx)[0][0]\n",
    "        f_out.write('--------------------------------Email-Id: {}-----------------------------'.format(str(idx)))\n",
    "        f_out.write('\\n')\n",
    "        f_out.write(email_text[pos].encode('utf8'))\n",
    "        f_out.write('\\n')"
   ]
  },
  {
   "cell_type": "code",
   "execution_count": null,
   "metadata": {
    "collapsed": false
   },
   "outputs": [],
   "source": [
    "sql1 = \"\"\"select e.Id, p.Name Sender, e.MetadataTo Receiver, e.ExtractedDateSent, e.ExtractedSubject, e.ExtractedBodyText\n",
    "from Emails e \n",
    "inner join Persons p on e.SenderPersonId=p.Id \n",
    "left outer join Aliases a on lower(e.MetadataTo)=a.Alias\n",
    "where (e.ExtractedBodyText LIKE '%Libya%' or  e.ExtractedBodyText LIKE '%Haiti%' or  e.ExtractedBodyText LIKE '%Afghanistan%'\n",
    "or e.ExtractedBodyText LIKE '%Iraq%' or e.ExtractedBodyText LIKE '%China%' or e.ExtractedBodyText LIKE '%Pakistan%') and \n",
    "LENGTH(e.ExtractedBodyText) > 4750\n",
    "\"\"\"\n",
    "newemails = pd.read_sql_query(sql1,conn)\n",
    "print(newemails.head(10))"
   ]
  },
  {
   "cell_type": "markdown",
   "metadata": {},
   "source": [
    "## Clean-up sender receiver"
   ]
  },
  {
   "cell_type": "code",
   "execution_count": null,
   "metadata": {
    "collapsed": false
   },
   "outputs": [],
   "source": [
    "# Fetch data in pandas dataframe\n",
    "conn = sqlite3.connect('../hillary-clinton-emails/database.sqlite')\n",
    "# sql = \"select * from Emails\"\n",
    "# emails = pd.read_sql_query(sql,conn)\n",
    "# columns = ['Id','SenderPersonId','MetadataFrom','MetadataTo','ExtractedDateSent','ExtractedSubject','ExtractedBodyText']\n",
    "# emails[columns].head(5)\n",
    "# emails[emails['SenderPersonId']==80][columns].head(5)\n",
    "# x = emails.groupby('SenderPersonId').size()\n",
    "# print 'No of mails sent by HC =',x[80]\n",
    "\n",
    "# Assign receiver Id\n",
    "sql = \"\"\"select e.Id, p.Name Sender, \n",
    "e.SenderPersonId Sender_Id, e.MetadataTo Receiver, a.PersonId Receiver_Id, e.ExtractedDateSent\n",
    "from Emails e \n",
    "inner join Persons p on e.SenderPersonId=p.Id \n",
    "left outer join Aliases a on lower(e.MetadataTo)=a.Alias\n",
    "\"\"\"\n",
    "emails = pd.read_sql_query(sql,conn)\n",
    "# emails_noNA = emails.dropna(how='any')\n",
    "# emails.head(20)\n",
    "idx_NaN = [i for i,val in enumerate(emails['Receiver_Id']) if np.isnan(val)]\n",
    "\n",
    "\n",
    "# Create dictionary personId:name\n",
    "sql = \"select * from Persons\"\n",
    "persons = pd.read_sql_query(sql,conn)\n",
    "name2id = {}\n",
    "id2name = {}\n",
    "for entry in persons.itertuples():\n",
    "    name2id[entry[2]]=entry[1]\n",
    "    id2name[entry[1]]=entry[2]\n",
    "    \n",
    "# Fill up missing Receiver_Id fields\n",
    "receiver_dict = {}\n",
    "pattern = re.compile('^(\\w+),\\sp*(\\w+)')\n",
    "for idx in idx_NaN:\n",
    "    name = emails['Receiver'][idx]\n",
    "    pat_obj = pattern.match(name)\n",
    "    if pat_obj!=None:\n",
    "        person_name = pat_obj.group(2)+' '+pat_obj.group(1)\n",
    "        try:\n",
    "            person_id = name2id[person_name]\n",
    "            emails['Receiver_Id'][idx]=person_id\n",
    "        except:\n",
    "            pass\n",
    "temp = emails.shape[0]\n",
    "emails = emails.dropna(how='any')\n",
    "print('Discarded emails: ',temp-emails.shape[0])"
   ]
  },
  {
   "cell_type": "markdown",
   "metadata": {},
   "source": [
    "## Rank contacts on interraction frequency"
   ]
  },
  {
   "cell_type": "code",
   "execution_count": null,
   "metadata": {
    "collapsed": false
   },
   "outputs": [],
   "source": [
    "emails_from_H = emails[emails['Sender_Id']==80]\n",
    "x = emails_from_H.groupby('Receiver_Id')['Id'].count()\n",
    "person_ids = np.array(x.index.values)\n",
    "counts = np.array([i for i in x])\n",
    "# ind_sorted = np.array(np.argsort(counts)[::-1][:len(counts)])\n",
    "# counts = counts[ind_sorted]\n",
    "# person_ids = person_ids[ind_sorted]\n",
    "# for i in person_ids[:10]:\n",
    "#     print id2name[i]\n",
    "person_names = [id2name[i] for i in person_ids]\n",
    "%matplotlib inline\n",
    "df = pd.DataFrame(np.array(counts),person_names)\n",
    "df = df[df[0]>9]\n",
    "ax = df.plot(kind='bar',legend=False,title='Email Frequency from H')\n",
    "ax.set_ylabel('Count')"
   ]
  },
  {
   "cell_type": "code",
   "execution_count": null,
   "metadata": {
    "collapsed": false
   },
   "outputs": [],
   "source": [
    "emails_from_H = emails[emails['Receiver_Id']==80]\n",
    "x = emails_from_H.groupby('Sender_Id')['Id'].count()\n",
    "person_ids = np.array(x.index.values)\n",
    "counts = np.array([i for i in x])\n",
    "# ind_sorted = np.array(np.argsort(counts)[::-1][:len(counts)])\n",
    "# counts = counts[ind_sorted]\n",
    "# person_ids = person_ids[ind_sorted]\n",
    "# for i in person_ids[:10]:\n",
    "#     print id2name[i]\n",
    "person_names = [id2name[i] for i in person_ids]\n",
    "%matplotlib inline\n",
    "df = pd.DataFrame(np.array(counts),person_names)\n",
    "df = df[df[0]>20]\n",
    "ax = df.plot(kind='bar',legend=False,title='Email Frequency to H')\n",
    "ax.set_ylabel('Count')"
   ]
  },
  {
   "cell_type": "markdown",
   "metadata": {},
   "source": [
    "## Process email body: Topic modelling"
   ]
  },
  {
   "cell_type": "code",
   "execution_count": 11,
   "metadata": {
    "collapsed": true
   },
   "outputs": [],
   "source": [
    "class HillaryEmails(object):\n",
    "    def __init__(self,doc_vectors):\n",
    "        self.doc_vectors = doc_vectors\n",
    "    def __iter__(self):\n",
    "        for vector in self.doc_vectors:\n",
    "            yield vector"
   ]
  },
  {
   "cell_type": "code",
   "execution_count": 12,
   "metadata": {
    "collapsed": false
   },
   "outputs": [
    {
     "name": "stdout",
     "output_type": "stream",
     "text": [
      "7788\n",
      "CPU times: user 524 ms, sys: 20 ms, total: 544 ms\n",
      "Wall time: 528 ms\n",
      "CPU times: user 1.54 s, sys: 0 ns, total: 1.54 s\n",
      "Wall time: 1.54 s\n"
     ]
    }
   ],
   "source": [
    "def do_BoW(tokens):\n",
    "    return vocab.doc2bow(tokens)\n",
    "def get_maxwords(vector):\n",
    "    minimum = int(len(vector)*0.2)\n",
    "    minimum = min(10,minimum)\n",
    "    global vocab\n",
    "    temp = sorted(vector,key=lambda x:x[1],reverse=True)\n",
    "    topic = [vocab[it[0]] for it in temp[:minimum]]\n",
    "    return topic\n",
    "conn = sqlite3.connect('../hillary-clinton-emails/database.sqlite')\n",
    "sql = \"\"\"select e.Id, p.Name Sender, \n",
    "e.SenderPersonId Sender_Id, e.ExtractedDateSent, e.ExtractedBodyText\n",
    "from Emails e \n",
    "inner join Persons p on e.SenderPersonId=p.Id\n",
    "\"\"\"\n",
    "emails = pd.read_sql_query(sql,conn)\n",
    "emails['ExtractedDateSent']=emails.ExtractedDateSent.apply(clean_date)\n",
    "# Step 1: Mails from Hillary\n",
    "# emails = emails[emails['Sender_Id']==80]\n",
    "# Step 2: Tokenize email body\n",
    "email_tokens = emails.ExtractedBodyText.apply(tokenize)\n",
    "doc_stream = [tokens for tokens in email_tokens]\n",
    "print(len(doc_stream))\n",
    "# Step 3: Build Vocabulary\n",
    "%time vocab = gensim.corpora.Dictionary(doc_stream)\n",
    "    # vocab.filter_extremes(no_below=20,no_above=0.8)\n",
    "# Step 4: Run BoW on docs\n",
    "vectors_doc = email_tokens.apply(do_BoW)\n",
    "maxwords = vectors_doc.apply(get_maxwords)\n",
    "#Step 5: save doc vectors in mm file\n",
    "hillary_emails_corpus = HillaryEmails(vectors_doc)\n",
    "%time gensim.corpora.MmCorpus.serialize('emails_bow.mm',hillary_emails_corpus)"
   ]
  },
  {
   "cell_type": "code",
   "execution_count": 13,
   "metadata": {
    "collapsed": false
   },
   "outputs": [
    {
     "name": "stdout",
     "output_type": "stream",
     "text": [
      "CPU times: user 1min 40s, sys: 1.26 s, total: 1min 41s\n",
      "Wall time: 1min 2s\n"
     ]
    }
   ],
   "source": [
    "# hillary_mm_corpus = gensim.corpora.MmCorpus('emails_bow.mm')\n",
    "# clipped_corpus = gensim.utils.ClippedCorpus(hillary_emails_corpus,1600)\n",
    "tfidf = gensim.models.TfidfModel(vectors_doc)\n",
    "#print(tfidf)\n",
    "corpus_tfidf = tfidf[vectors_doc]\n",
    "%time lda_model = gensim.models.LdaModel(corpus_tfidf, num_topics=20, id2word=vocab, passes=4)\n",
    "lda_model.save('model.lda')"
   ]
  },
  {
   "cell_type": "code",
   "execution_count": null,
   "metadata": {
    "collapsed": false
   },
   "outputs": [],
   "source": [
    "lda_model.get_document_topics(vectors_doc[10])\n",
    "for topic in range(lda_model.num_topics):\n",
    "    print(topic,lda_model.show_topic(topic,topn=10))\n",
    "lda_model.get_topic_terms(10)\n",
    "# lda_model.get_term_topics(vocab.token2id['state'])"
   ]
  },
  {
   "cell_type": "code",
   "execution_count": null,
   "metadata": {
    "collapsed": false
   },
   "outputs": [],
   "source": [
    "# Visualization\n",
    "# see https://pyldavis.readthedocs.io/en/latest/modules/API.html#pyLDAvis.prepare\n",
    "%matplotlib inline\n",
    "\n",
    "import pyLDAvis\n",
    "\n",
    "n_doc = len(vectors_doc)\n",
    "n_topic = lda_model.num_topics\n",
    "n_vocab = len(vocab.keys())\n",
    "\n",
    "# step 0\n",
    "topic_term_dists = np.zeros([n_topic,n_vocab])\n",
    "for topic_num in range(n_topic):\n",
    "    word_dist = lda_model.get_topic_terms(topic_num,topn=n_vocab)\n",
    "    words = [i for i,_ in word_dist]\n",
    "    prob = [i for _,i in word_dist]\n",
    "    topic_term_dists[topic_num][words] = prob\n",
    "\n",
    "# step 1\n",
    "doc_topic_dists = np.zeros([n_doc,n_topic]) # n_doc x n_topic\n",
    "for doc_num in range(n_doc):\n",
    "    topic_dist = lda_model.get_document_topics(vectors_doc[doc_num],minimum_probability=0)\n",
    "    topics = [i for i,_ in topic_dist]\n",
    "    probs = [i for _,i in topic_dist]\n",
    "    doc_topic_dists[doc_num][topics] = probs\n",
    "\n",
    "# step 2\n",
    "doc_lengths = (np.zeros(n_doc)).astype(int)\n",
    "for doc_num in range(n_doc):\n",
    "    l = np.sum([i for _,i in vectors_doc[doc_num]])\n",
    "    doc_lengths[doc_num] = int(l)\n",
    "    \n",
    "# step 3\n",
    "vocab_list = np.array(vocab.values())\n",
    "\n",
    "# step 4\n",
    "term_frequency = np.zeros(n_vocab)\n",
    "for doc_num in range(n_doc):\n",
    "    words = [i for i,_ in vectors_doc[doc_num]]\n",
    "    freq = [i for _,i in vectors_doc[doc_num]]\n",
    "    term_frequency[words] += freq\n",
    "\n",
    "movies_vis_data = pyLDAvis.prepare(topic_term_dists, doc_topic_dists, doc_lengths, vocab_list, term_frequency)\n",
    "pyLDAvis.display(movies_vis_data)"
   ]
  },
  {
   "cell_type": "code",
   "execution_count": null,
   "metadata": {
    "collapsed": false
   },
   "outputs": [],
   "source": [
    "hillary_mm_corpus = gensim.corpora.MmCorpus('emails_bow.mm')\n",
    "%time tfidf_model = gensim.models.TfidfModel(hillary_mm_corpus, id2word=vocab)\n",
    "%time lsi_model = gensim.models.LsiModel(tfidf_model[hillary_mm_corpus], id2word=vocab, num_topics=200)"
   ]
  },
  {
   "cell_type": "markdown",
   "metadata": {},
   "source": [
    "## Running R from python"
   ]
  },
  {
   "cell_type": "code",
   "execution_count": null,
   "metadata": {
    "collapsed": false
   },
   "outputs": [],
   "source": [
    "import rpy2\n",
    "import rpy2.robjects as robjects\n",
    "from rpy2.robjects.packages import importr\n",
    "import rpy2.robjects.packages as rpackages\n",
    "from rpy2.robjects.vectors import StrVector\n",
    "base = importr('base')\n",
    "utils = rpackages.importr('utils')\n",
    "utils.chooseCRANmirror(ind=1)"
   ]
  },
  {
   "cell_type": "code",
   "execution_count": null,
   "metadata": {
    "collapsed": false
   },
   "outputs": [],
   "source": [
    "packnames = ['ggplot2']\n",
    "names_to_install = [x for x in packnames if not rpackages.isinstalled(x)]\n",
    "if len(names_to_install)>0:\n",
    "    utils.install_packages(StrVector(names_to_install))"
   ]
  },
  {
   "cell_type": "markdown",
   "metadata": {},
   "source": [
    "## Sentiment Analysis on countries"
   ]
  },
  {
   "cell_type": "code",
   "execution_count": 144,
   "metadata": {
    "collapsed": false
   },
   "outputs": [
    {
     "name": "stderr",
     "output_type": "stream",
     "text": [
      "/home/debojyoti/anaconda2/lib/python2.7/site-packages/nltk/twitter/__init__.py:20: UserWarning: The twython library has not been installed. Some functionality from the twitter package will not be available.\n",
      "  warnings.warn(\"The twython library has not been installed. \"\n"
     ]
    }
   ],
   "source": [
    "import nltk\n",
    "from nltk.tokenize import sent_tokenize\n",
    "from nltk.sentiment.vader import SentimentIntensityAnalyzer\n",
    "import re"
   ]
  },
  {
   "cell_type": "code",
   "execution_count": null,
   "metadata": {
    "collapsed": false
   },
   "outputs": [],
   "source": [
    "from nltk.classify import NaiveBayesClassifier\n",
    "from nltk.corpus import subjectivity\n",
    "from nltk.sentiment import SentimentAnalyzer\n",
    "from nltk.sentiment.util import *\n",
    "n_instances = 100\n",
    "subj_docs = [(sent,'subj') for sent in subjectivity.sents(categories='subj')[:n_instances]]\n",
    "obj_docs = [(sent,'obj') for sent in subjectivity.sents(categories='obj')[:n_instances]]\n",
    "# subj_docs[10],obj_docs[1]\n",
    "train_docs = subj_docs[:80]+obj_docs[:80]\n",
    "test_docs = subj_docs[80:100]+obj_docs[80:100]\n",
    "senti_analyser = SentimentAnalyzer()"
   ]
  },
  {
   "cell_type": "code",
   "execution_count": 146,
   "metadata": {
    "collapsed": false
   },
   "outputs": [
    {
     "data": {
      "text/plain": [
       "{'compound': -0.6808, 'neg': 0.697, 'neu': 0.303, 'pos': 0.0}"
      ]
     },
     "execution_count": 146,
     "metadata": {},
     "output_type": "execute_result"
    }
   ],
   "source": [
    "sent = \"He is a murderer\"\n",
    "sentiAnalyser = SentimentIntensityAnalyzer()\n",
    "sentiAnalyser.polarity_scores(sent)"
   ]
  },
  {
   "cell_type": "markdown",
   "metadata": {},
   "source": [
    "## Find sentiment of emails"
   ]
  },
  {
   "cell_type": "code",
   "execution_count": null,
   "metadata": {
    "collapsed": false
   },
   "outputs": [],
   "source": [
    "def getSentiment(text):\n",
    "    pos = 0\n",
    "    neg = 0\n",
    "    neu = 0\n",
    "    if text=='':\n",
    "        return 0,pos,neg\n",
    "    global sentiAnalyser\n",
    "    text = text.replace('\\n',' ')\n",
    "    sentences = sent_tokenize(text)\n",
    "    sentences = [sent for sent in sentences if len(sent.split())>2]\n",
    "    for sent in sentences:\n",
    "        senti = sentiAnalyser.polarity_scores(sent)\n",
    "        if senti['neu']>=0.9:\n",
    "            neu += 1\n",
    "        else:\n",
    "            pos += senti['pos']\n",
    "            neg += senti['neg']\n",
    "    count = len(sentences)-neu\n",
    "    if count == 0:\n",
    "        return len(sentences),pos,neg\n",
    "    return len(sentences),pos/count,neg/count\n",
    "conn = sqlite3.connect('../hillary-clinton-emails/database.sqlite')\n",
    "sql = \"\"\"select e.Id, p.Name Sender, \n",
    "e.SenderPersonId Sender_Id, e.ExtractedDateSent, e.ExtractedBodyText\n",
    "from Emails e \n",
    "inner join Persons p on e.SenderPersonId=p.Id\n",
    "\"\"\"\n",
    "emails = pd.read_sql_query(sql,conn)\n",
    "emails['ExtractedDateSent']=emails.ExtractedDateSent.apply(clean_date)\n",
    "# Step 1: Mails from Hillary\n",
    "emails = emails[emails['Sender_Id']==80]\n",
    "# emails = emails.head(5)\n",
    "# emails.ExtractedBodyText.apply(getSentiment)\n",
    "print 'Total Email count by Hillary: ',emails.Id.count()\n",
    "sentiAnalyser = SentimentIntensityAnalyzer()\n",
    "%time sentiments = emails.ExtractedBodyText.apply(getSentiment)\n",
    "senti_map = zip(emails.Id.values,sentiments.values)\n",
    "senti_map = sorted(senti_map,key = lambda(item):item[1][2],reverse=True)\n",
    "print senti_map[:5]"
   ]
  },
  {
   "cell_type": "markdown",
   "metadata": {},
   "source": [
    "## Find occurance of country name in mails"
   ]
  },
  {
   "cell_type": "code",
   "execution_count": 14,
   "metadata": {
    "collapsed": false
   },
   "outputs": [],
   "source": [
    "import pycountry"
   ]
  },
  {
   "cell_type": "code",
   "execution_count": 19,
   "metadata": {
    "collapsed": false
   },
   "outputs": [
    {
     "name": "stdout",
     "output_type": "stream",
     "text": [
      "CPU times: user 8min 52s, sys: 3.9 s, total: 8min 56s\n",
      "Wall time: 8min 53s\n"
     ]
    }
   ],
   "source": [
    "def get_count(text):\n",
    "    global country_counter\n",
    "    global countries_new_name\n",
    "    for indx,country in enumerate(pycountry.countries):\n",
    "        name = country.name\n",
    "        if name in countries_new_name.keys():\n",
    "            name = countries_new_name[name]\n",
    "        name = '\\\\b'+name # Ensuring substring start with country name. eg.Indian, Syrian, India\n",
    "        all_matches = re.finditer(name,text,re.IGNORECASE)\n",
    "        n_occurrences = len(list(all_matches))\n",
    "        country_counter[indx] += n_occurrences\n",
    "        abbr_to_ignore = [\"RE\", \"FM\", \"TV\", \"AL\", \"AQ\", \"LA\", \"BEN\"]\n",
    "        if country.alpha2 not in abbr_to_ignore:\n",
    "            name = '\\\\b'+country.alpha2+'\\\\b'\n",
    "            all_matches = re.finditer(name,text)\n",
    "            n_occurrences = len(list(all_matches))\n",
    "            country_counter[indx] += n_occurrences\n",
    "        if country.alpha3 not in abbr_to_ignore:\n",
    "            name = '\\\\b'+country.alpha3+'\\\\b'\n",
    "            all_matches = re.finditer(name,text)\n",
    "            n_occurrences = len(list(all_matches))\n",
    "            country_counter[indx] += n_occurrences\n",
    "country_counter = [0 for country in pycountry.countries]\n",
    "country_names = [country.name for country in pycountry.countries]\n",
    "countries_new_name = {'Syrian Arab Republic':'Syria','Russian Federation':'Russia','Iran, Islamic Republic of':\\\n",
    "                      'Iran','Korea, Democratic People\\'s Republic of':'Korea','Palestine, State of':'Palestine',\\\n",
    "                      'Venezuela, Bolivarian Republic of':'Venezuela'}\n",
    "%time emails.ExtractedBodyText.apply(get_count)\n",
    "# let's study count for some countries\n",
    "country2ind = {}\n",
    "for indx,country in enumerate(pycountry.countries):\n",
    "    country2ind[country.name]=indx\n",
    "country_name_count = zip(country_names,country_counter)\n",
    "country_name_count = sorted(country_name_count,key = lambda(item):item[1],reverse=True)"
   ]
  },
  {
   "cell_type": "code",
   "execution_count": 21,
   "metadata": {
    "collapsed": false
   },
   "outputs": [
    {
     "data": {
      "text/plain": [
       "<matplotlib.text.Text at 0x7f13c5a32ed0>"
      ]
     },
     "execution_count": 21,
     "metadata": {},
     "output_type": "execute_result"
    },
    {
     "data": {
      "image/png": "[encoded data removed]",
      "text/plain": [
       "<matplotlib.figure.Figure at 0x7f13cf93f310>"
      ]
     },
     "metadata": {},
     "output_type": "display_data"
    }
   ],
   "source": [
    "%matplotlib inline\n",
    "df = pd.DataFrame(np.array(country_counter),country_names)\n",
    "df = df[df[0]>30]\n",
    "ax = df.plot(kind='bar',legend=False,title='Occurance of Country names')\n",
    "ax.set_ylabel('Count')"
   ]
  },
  {
   "cell_type": "markdown",
   "metadata": {},
   "source": [
    "## Sentence-wise average sentiment of top mentioned countries"
   ]
  },
  {
   "cell_type": "code",
   "execution_count": 164,
   "metadata": {
    "collapsed": false
   },
   "outputs": [
    {
     "name": "stdout",
     "output_type": "stream",
     "text": [
      "[ 0.09133894  0.          0.          0.          0.          0.05016176\n",
      "  0.          0.          0.          0.          0.          0.07549567\n",
      "  0.          0.          0.          0.          0.          0.          0.\n",
      "  0.          0.          0.          0.          0.          0.          0.\n",
      "  0.          0.          0.          0.          0.          0.07363462\n",
      "  0.          0.          0.          0.          0.          0.          0.\n",
      "  0.          0.          0.          0.          0.          0.\n",
      "  0.09237722  0.          0.          0.          0.          0.          0.\n",
      "  0.          0.          0.          0.          0.          0.          0.\n",
      "  0.          0.05466667  0.          0.          0.          0.\n",
      "  0.05655932  0.          0.          0.          0.          0.          0.\n",
      "  0.          0.          0.          0.          0.          0.          0.\n",
      "  0.          0.          0.          0.09124194  0.          0.          0.\n",
      "  0.          0.          0.          0.          0.          0.          0.\n",
      "  0.          0.          0.09921488  0.          0.          0.05882927\n",
      "  0.          0.          0.          0.07665109  0.1416      0.07242029\n",
      "  0.0797177   0.11795652  0.          0.09797802  0.          0.\n",
      "  0.06805882  0.          0.          0.          0.          0.\n",
      "  0.06198077  0.          0.          0.          0.          0.          0.\n",
      "  0.          0.          0.08278646  0.          0.          0.          0.\n",
      "  0.          0.          0.          0.          0.          0.          0.\n",
      "  0.          0.          0.          0.          0.          0.1054      0.\n",
      "  0.          0.          0.          0.          0.          0.          0.\n",
      "  0.          0.          0.          0.          0.          0.          0.\n",
      "  0.          0.          0.          0.          0.          0.\n",
      "  0.06794737  0.          0.09932813  0.14585965  0.          0.          0.\n",
      "  0.          0.          0.          0.          0.          0.          0.\n",
      "  0.          0.          0.          0.09001639  0.          0.          0.\n",
      "  0.          0.          0.          0.0634359   0.          0.          0.\n",
      "  0.          0.          0.          0.          0.          0.          0.\n",
      "  0.          0.          0.          0.          0.          0.          0.\n",
      "  0.          0.          0.          0.          0.          0.          0.\n",
      "  0.          0.          0.          0.          0.          0.          0.\n",
      "  0.          0.          0.          0.16047198  0.          0.\n",
      "  0.07497959  0.          0.          0.          0.          0.          0.\n",
      "  0.          0.14420724  0.          0.          0.          0.          0.\n",
      "  0.          0.          0.          0.          0.          0.          0.\n",
      "  0.        ]\n",
      "[ 0.07617087  0.          0.          0.          0.          0.01351471\n",
      "  0.          0.          0.          0.          0.          0.01895022\n",
      "  0.          0.          0.          0.          0.          0.          0.\n",
      "  0.          0.          0.          0.          0.          0.          0.\n",
      "  0.          0.          0.          0.          0.          0.04369231\n",
      "  0.          0.          0.          0.          0.          0.          0.\n",
      "  0.          0.          0.          0.          0.          0.\n",
      "  0.05739858  0.          0.          0.          0.          0.          0.\n",
      "  0.          0.          0.          0.          0.          0.          0.\n",
      "  0.          0.035       0.          0.          0.          0.\n",
      "  0.05620339  0.          0.          0.          0.          0.          0.\n",
      "  0.          0.          0.          0.          0.          0.          0.\n",
      "  0.          0.          0.          0.07490323  0.          0.          0.\n",
      "  0.          0.          0.          0.          0.          0.          0.\n",
      "  0.          0.          0.04444628  0.          0.          0.04702439\n",
      "  0.          0.          0.          0.03096885  0.01844444  0.0683942\n",
      "  0.08862201  0.06377174  0.          0.07282692  0.          0.\n",
      "  0.04158824  0.          0.          0.          0.          0.\n",
      "  0.06813462  0.          0.          0.          0.          0.          0.\n",
      "  0.          0.          0.09217188  0.          0.          0.          0.\n",
      "  0.          0.          0.          0.          0.          0.          0.\n",
      "  0.          0.          0.          0.          0.          0.05263636\n",
      "  0.          0.          0.          0.          0.          0.          0.\n",
      "  0.          0.          0.          0.          0.          0.          0.\n",
      "  0.          0.          0.          0.          0.          0.          0.\n",
      "  0.04431579  0.          0.06862891  0.03766667  0.          0.          0.\n",
      "  0.          0.          0.          0.          0.          0.          0.\n",
      "  0.          0.          0.          0.06905738  0.          0.          0.\n",
      "  0.          0.          0.          0.01896752  0.          0.          0.\n",
      "  0.          0.          0.          0.          0.          0.          0.\n",
      "  0.          0.          0.          0.          0.          0.          0.\n",
      "  0.          0.          0.          0.          0.          0.          0.\n",
      "  0.          0.          0.          0.          0.          0.          0.\n",
      "  0.          0.          0.          0.00151724  0.          0.\n",
      "  0.04508163  0.          0.          0.          0.          0.          0.\n",
      "  0.          0.05664045  0.          0.          0.          0.          0.\n",
      "  0.          0.          0.          0.          0.          0.          0.\n",
      "  0.        ]\n"
     ]
    }
   ],
   "source": [
    "def senti_cumulative(text,name,abr1,abr2,country_indx):\n",
    "    if text=='':\n",
    "        return\n",
    "    regex = '.*\\s{}|.*\\s{}\\s|.*\\s{}\\s'.format(name,abr1,abr2)\n",
    "    if abr1 is None and abr2 is None:\n",
    "        regex = '.*\\s{}'.format(name)\n",
    "    elif abr1 is None:\n",
    "        regex = '.*\\s{}|*\\s{}\\s'.format(name,abr2)\n",
    "    elif abr2 is None:\n",
    "        regex = '.*\\s{}|.*\\s{}\\s'.format(name,abr1)\n",
    "    re_obj = re.compile(regex)\n",
    "    text = text.replace('\\n',' ')\n",
    "    if re_obj.match(text)==None:\n",
    "        return\n",
    "    # sentiment for sentences with country name\n",
    "    global sentiAnalyser\n",
    "    global positives\n",
    "    global negatives\n",
    "    global sent_count\n",
    "    sentences = sent_tokenize(text)\n",
    "    sentences = [sent for sent in sentences if len(sent.split())>2]\n",
    "    for sent in sentences:\n",
    "        if re_obj.match(sent)==None:\n",
    "            continue\n",
    "        senti = sentiAnalyser.polarity_scores(sent)\n",
    "        positives[country_indx] += senti['pos']\n",
    "        negatives[country_indx] += senti['neg']\n",
    "        sent_count[country_indx] += 1        \n",
    "        \n",
    "def get_country_sentiment_sentencewise(country,indx):\n",
    "    global countries_new_name\n",
    "    global emails\n",
    "    name = country.name\n",
    "    abr1 = country.alpha2\n",
    "    abr2 = country.alpha3\n",
    "    abbr_to_ignore = [\"RE\", \"FM\", \"TV\", \"AL\", \"AQ\", \"LA\", \"BEN\"]\n",
    "    if name in countries_new_name:\n",
    "        name = countries_new_name[name]\n",
    "    if abr1 in abbr_to_ignore:\n",
    "        abr1 = None\n",
    "    if abr2 in abbr_to_ignore:\n",
    "        abr2 = None\n",
    "    emails.ExtractedBodyText.apply(senti_cumulative,args=(name,abr1,abr2,indx))\n",
    "    \n",
    "country_obj_list = [it for it in pycountry.countries]\n",
    "positives = (np.zeros_like(country_counter)).astype(float)\n",
    "negatives = (np.zeros_like(country_counter)).astype(float)\n",
    "sent_count = np.zeros_like(country_counter)\n",
    "for indx,count in enumerate(country_counter):\n",
    "    if count>50:\n",
    "        get_country_sentiment_sentencewise(country_obj_list[indx],indx)\n",
    "for i in range(len(sent_count)):\n",
    "    if sent_count[i]>0:\n",
    "        positives[i] /= sent_count[i]\n",
    "        negatives[i] /= sent_count[i]\n",
    "print positives\n",
    "print negatives"
   ]
  },
  {
   "cell_type": "markdown",
   "metadata": {},
   "source": [
    "## Correlation between country vs average sentiment"
   ]
  },
  {
   "cell_type": "code",
   "execution_count": null,
   "metadata": {
    "collapsed": false
   },
   "outputs": [],
   "source": [
    "def get_occurence_ct(text,country):\n",
    "    name = country.name\n",
    "    counter = 0\n",
    "    global countries_new_name\n",
    "    if name in countries_new_name.keys():\n",
    "        name = countries_new_name[name]\n",
    "    name = '\\\\b'+name # Ensuring substring start with country name. eg.Indian, Syrian, India\n",
    "    all_matches = re.finditer(name,text,re.IGNORECASE)\n",
    "    n_occurrences = len(list(all_matches))\n",
    "    counter += n_occurrences\n",
    "    abbr_to_ignore = [\"RE\", \"FM\", \"TV\", \"AL\", \"AQ\", \"LA\", \"BEN\"]\n",
    "    if country.alpha2 not in abbr_to_ignore:\n",
    "        name = '\\\\b'+country.alpha2+'\\\\b'\n",
    "        all_matches = re.finditer(name,text)\n",
    "        n_occurrences = len(list(all_matches))\n",
    "        counter += n_occurrences\n",
    "    if country.alpha3 not in abbr_to_ignore:\n",
    "        name = '\\\\b'+country.alpha3+'\\\\b'\n",
    "        all_matches = re.finditer(name,text)\n",
    "        n_occurrences = len(list(all_matches))\n",
    "        counter += n_occurrences\n",
    "    return counter\n",
    "def get_country_sentiment(country):\n",
    "    global sentiments\n",
    "    global emails\n",
    "    res_pos,res_neg = 0,0\n",
    "    counts = emails.ExtractedBodyText.apply(get_occurence_ct,args=(country,))\n",
    "    sentiments_pos = [tpl[1] for tpl in sentiments.values]\n",
    "    sentiments_neg = [tpl[2] for tpl in sentiments.values]\n",
    "    if sum(counts.values)>0:\n",
    "        res_pos = sum([ct*pos for ct,pos in zip(counts.values,sentiments_pos)])/sum(counts.values)\n",
    "        res_neg = sum([ct*neg for ct,neg in zip(counts.values,sentiments_neg)])/sum(counts.values)\n",
    "    return res_pos,res_neg\n",
    "countries = pd.Series([country for country in pycountry.countries])\n",
    "senti = countries.apply(get_country_sentiment)\n",
    "py\n",
    "countries.apply(evaluate_sentiment)"
   ]
  },
  {
   "cell_type": "code",
   "execution_count": null,
   "metadata": {
    "collapsed": false
   },
   "outputs": [],
   "source": [
    "senti_pos = np.array([i[0] for i in senti])\n",
    "df = pd.DataFrame(senti_pos,country_names)\n",
    "df = df[df[0]>0.1]\n",
    "ax = df.plot(kind='bar',legend=False,title='Hillary\\'s Sentiment about countries')\n",
    "ax.set_ylabel('postivity')"
   ]
  },
  {
   "cell_type": "code",
   "execution_count": null,
   "metadata": {
    "collapsed": false
   },
   "outputs": [],
   "source": [
    "senti_neg = np.array([i[1] for i in senti])\n",
    "df = pd.DataFrame(senti_neg,country_names)\n",
    "df = df[df[0]>0]\n",
    "ax = df.plot(kind='bar',legend=False,title='Hillary\\'s Sentiment about countries')\n",
    "ax.set_ylabel('negativity')"
   ]
  }
 ],
 "metadata": {
  "anaconda-cloud": {},
  "kernelspec": {
   "display_name": "Python [conda root]",
   "language": "python",
   "name": "conda-root-py"
  },
  "language_info": {
   "codemirror_mode": {
    "name": "ipython",
    "version": 2
   },
   "file_extension": ".py",
   "mimetype": "text/x-python",
   "name": "python",
   "nbconvert_exporter": "python",
   "pygments_lexer": "ipython2",
   "version": "2.7.12"
  }
 },
 "nbformat": 4,
 "nbformat_minor": 1
}
