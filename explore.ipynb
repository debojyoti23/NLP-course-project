{
 "cells": [
  {
   "cell_type": "code",
   "execution_count": 70,
   "metadata": {
    "collapsed": true
   },
   "outputs": [],
   "source": [
    "import sqlite3\n",
    "import re"
   ]
  },
  {
   "cell_type": "code",
   "execution_count": 83,
   "metadata": {
    "collapsed": false
   },
   "outputs": [
    {
     "name": "stdout",
     "output_type": "stream",
     "text": [
      "['id', 'to', 'from', 'sub', 'date', 'body', 'raw']\n",
      "FW: Wow\n",
      "Wow\n",
      "\n",
      "\n",
      "Re: Chris Stevens\n",
      "Chris Stevens\n",
      "FVV: Cairo Condemnation - Final\n",
      "Cairo Condemnation - Final\n",
      "\n",
      "\n",
      "Meet The Right Wing Extremist Behind Anti-Muslim Film That Sparked Deadly Riots\n",
      "Meet The Right Wing Extremist Behind Anti-Muslim Film That Sparked Deadly Riots\n",
      "FW: Anti-Muslim film director in hiding, following Libya, Egypt violence\n",
      "Anti-Muslim film director in hiding, following Libya, Egypt violence\n",
      "\n",
      "\n",
      "FVV: Secretary's remarks\n",
      "Secretary's remarks\n",
      "more on Libya\n",
      "more on Libya\n",
      "AbZ and Hb3 on Libya and West Bank/Gaza\n",
      "AbZ and Hb3 on Libya and West Bank/Gaza\n",
      "\n",
      "\n",
      "hey\n",
      "hey\n",
      "\n",
      "\n",
      "RE: Not a dry eye in NEA\n",
      "Not a dry eye in NEA\n",
      "\n",
      "\n",
      "Fw: The Youth of Libya\n",
      "The Youth of Libya\n",
      "Fw: One More Photo\n",
      "One More Photo\n",
      "Fw: S today\n",
      "S today\n",
      "\n",
      "\n",
      "['fw', None, 're', 'fvv', None, None, 'fw', None, 'fvv', None, None, None, None, None, 're', None, 'fw', 'fw', 'fw', None]\n"
     ]
    }
   ],
   "source": [
    "conn = sqlite3.connect('../hillary-clinton-emails/database.sqlite')\n",
    "cur = conn.cursor()\n",
    "cur.execute('pragma table_info(Emails)')\n",
    "f_1 = 'Id'\n",
    "f_2 = 'MetadataTo'\n",
    "f_3 = 'MetadataFrom'\n",
    "f_4 = 'ExtractedSubject'\n",
    "f_5 = 'ExtractedDateSent'\n",
    "f_6 = 'ExtractedBodyText'\n",
    "f_7 = 'RawText'\n",
    "cur.execute('select {c1},{c2},{c3},{c4},{c5},{c6},{c7} from Emails'.\\\n",
    "            format(c1=f_1,c2=f_2,c3=f_3,c4=f_4,c5=f_5,c6=f_6,c7=f_7))\n",
    "# cur.fetchall()\n",
    "# cur.fetchone()\n",
    "columns_less = ['id','to','from','sub','date','body','raw']\n",
    "columns = [str(tpl[1]) for tpl in columns]\n",
    "print columns_less\n",
    "entries = []\n",
    "for row in cur.fetchmany(20):\n",
    "    htable = dict(zip(columns_less,row))\n",
    "    sub = htable['sub']\n",
    "    print sub\n",
    "    if re.match('^[Ff][Ww]',sub)!=None:\n",
    "        htable['email_type']='fw'\n",
    "        sub = re.sub('^[Ff][Ww].*:\\s*(.+)',r'\\1',sub)\n",
    "        htable['sub']=sub\n",
    "    elif re.match('^[Rr][Ee]:',sub)!=None:\n",
    "        htable['email_type']='re'\n",
    "        sub = re.sub('^[Rr][Ee]:\\s*(.+)',r'\\1',sub)\n",
    "        htable['sub']=sub\n",
    "    elif re.match('^[Ff][Vv][Vv]:',sub)!=None:\n",
    "        htable['email_type']='fvv'\n",
    "        sub = re.sub('^[Ff][Vv][Vv]:\\s*(.+)',r'\\1',sub)\n",
    "        htable['sub']=sub\n",
    "    else:\n",
    "        htable['email_type']=None\n",
    "#     if htable['body']!=\"\":\n",
    "    print sub\n",
    "    entries.append(htable)\n",
    "print [entry['email_type'] for entry in entries]\n",
    "conn.close()"
   ]
  }
 ],
 "metadata": {
  "anaconda-cloud": {},
  "kernelspec": {
   "display_name": "Python [default]",
   "language": "python",
   "name": "python2"
  },
  "language_info": {
   "codemirror_mode": {
    "name": "ipython",
    "version": 2
   },
   "file_extension": ".py",
   "mimetype": "text/x-python",
   "name": "python",
   "nbconvert_exporter": "python",
   "pygments_lexer": "ipython2",
   "version": "2.7.12"
  }
 },
 "nbformat": 4,
 "nbformat_minor": 1
}
