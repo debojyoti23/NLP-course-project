{
 "cells": [
  {
   "cell_type": "code",
   "execution_count": 4,
   "metadata": {
    "collapsed": true
   },
   "outputs": [],
   "source": [
    "import sqlite3\n",
    "import re\n",
    "import pandas as pd\n",
    "import numpy as np"
   ]
  },
  {
   "cell_type": "markdown",
   "metadata": {},
   "source": [
    "## Clean up subject"
   ]
  },
  {
   "cell_type": "code",
   "execution_count": 234,
   "metadata": {
    "collapsed": false
   },
   "outputs": [],
   "source": [
    "# conn = sqlite3.connect('../hillary-clinton-emails/database.sqlite')\n",
    "# cur = conn.cursor()\n",
    "# cur.execute('pragma table_info(Emails)')\n",
    "# f_1 = 'Id'\n",
    "# f_2 = 'MetadataTo'\n",
    "# f_3 = 'MetadataFrom'\n",
    "# f_4 = 'ExtractedSubject'\n",
    "# f_5 = 'ExtractedDateSent'\n",
    "# f_6 = 'ExtractedBodyText'\n",
    "# f_7 = 'RawText'\n",
    "# cur.execute('select {c1},{c2},{c3},{c4},{c5},{c6},{c7} from Emails'.\\\n",
    "#             format(c1=f_1,c2=f_2,c3=f_3,c4=f_4,c5=f_5,c6=f_6,c7=f_7))\n",
    "# cur.fetchall()\n",
    "# cur.fetchone()\n",
    "# columns_less = ['id','to','from','sub','date','body','raw']\n",
    "# columns = [str(tpl[1]) for tpl in columns]\n",
    "def clean_subject(sub):\n",
    "    email_type = None\n",
    "    if re.match('^[Ff][Ww]',sub)!=None:\n",
    "        email_type='fw'\n",
    "        sub = re.sub('^[Ff][Ww].*:\\s*(.+)',r'\\1',sub)\n",
    "    elif re.match('^[Rr][Ee]:',sub)!=None:\n",
    "        email_type='re'\n",
    "        sub = re.sub('^[Rr][Ee]:\\s*(.+)',r'\\1',sub)\n",
    "    elif re.match('^[Ff][Vv][Vv]:',sub)!=None:\n",
    "        email_type='fvv'\n",
    "        sub = re.sub('^[Ff][Vv][Vv]:\\s*(.+)',r'\\1',sub)\n",
    "    return email_type,sub"
   ]
  },
  {
   "cell_type": "code",
   "execution_count": 245,
   "metadata": {
    "collapsed": false
   },
   "outputs": [
    {
     "data": {
      "text/html": [
       "<div>\n",
       "<table border=\"1\" class=\"dataframe\">\n",
       "  <thead>\n",
       "    <tr style=\"text-align: right;\">\n",
       "      <th></th>\n",
       "      <th>Id</th>\n",
       "      <th>Sender</th>\n",
       "      <th>Sender_Id</th>\n",
       "      <th>Receiver</th>\n",
       "      <th>Receiver_Id</th>\n",
       "      <th>ExtractedDateSent</th>\n",
       "      <th>ExtractedSubject</th>\n",
       "      <th>email_type</th>\n",
       "    </tr>\n",
       "  </thead>\n",
       "  <tbody>\n",
       "    <tr>\n",
       "      <th>0</th>\n",
       "      <td>1</td>\n",
       "      <td>Jake Sullivan</td>\n",
       "      <td>87</td>\n",
       "      <td>H</td>\n",
       "      <td>80.0</td>\n",
       "      <td>Wednesday, September 12, 2012 10:16 AM</td>\n",
       "      <td>Wow</td>\n",
       "      <td>fw</td>\n",
       "    </tr>\n",
       "    <tr>\n",
       "      <th>1</th>\n",
       "      <td>3</td>\n",
       "      <td>Cheryl Mills</td>\n",
       "      <td>32</td>\n",
       "      <td>;H</td>\n",
       "      <td>NaN</td>\n",
       "      <td>Wednesday, September 12, 2012 11:52 AM</td>\n",
       "      <td>Chris Stevens</td>\n",
       "      <td>re</td>\n",
       "    </tr>\n",
       "    <tr>\n",
       "      <th>2</th>\n",
       "      <td>4</td>\n",
       "      <td>Cheryl Mills</td>\n",
       "      <td>32</td>\n",
       "      <td>H</td>\n",
       "      <td>80.0</td>\n",
       "      <td>Wednesday, September 12,2012 12:44 PM</td>\n",
       "      <td>Cairo Condemnation - Final</td>\n",
       "      <td>fvv</td>\n",
       "    </tr>\n",
       "    <tr>\n",
       "      <th>3</th>\n",
       "      <td>5</td>\n",
       "      <td>Hillary Clinton</td>\n",
       "      <td>80</td>\n",
       "      <td>Abedin, Huma</td>\n",
       "      <td>NaN</td>\n",
       "      <td></td>\n",
       "      <td></td>\n",
       "      <td>None</td>\n",
       "    </tr>\n",
       "    <tr>\n",
       "      <th>4</th>\n",
       "      <td>6</td>\n",
       "      <td>Hillary Clinton</td>\n",
       "      <td>80</td>\n",
       "      <td>Russorv@state.gov</td>\n",
       "      <td>185.0</td>\n",
       "      <td>Wednesday, September 12, 2012 01:00 PM</td>\n",
       "      <td>Meet The Right Wing Extremist Behind Anti-Musl...</td>\n",
       "      <td>None</td>\n",
       "    </tr>\n",
       "    <tr>\n",
       "      <th>5</th>\n",
       "      <td>7</td>\n",
       "      <td>Cheryl Mills</td>\n",
       "      <td>32</td>\n",
       "      <td>H</td>\n",
       "      <td>80.0</td>\n",
       "      <td>Wednesday, September 12, 2012 4:00 PM</td>\n",
       "      <td>Anti-Muslim film director in hiding, following...</td>\n",
       "      <td>fw</td>\n",
       "    </tr>\n",
       "    <tr>\n",
       "      <th>6</th>\n",
       "      <td>8</td>\n",
       "      <td>Hillary Clinton</td>\n",
       "      <td>80</td>\n",
       "      <td>Abedin, Huma</td>\n",
       "      <td>NaN</td>\n",
       "      <td></td>\n",
       "      <td></td>\n",
       "      <td>None</td>\n",
       "    </tr>\n",
       "    <tr>\n",
       "      <th>7</th>\n",
       "      <td>9</td>\n",
       "      <td>Jake Sullivan</td>\n",
       "      <td>87</td>\n",
       "      <td>H</td>\n",
       "      <td>80.0</td>\n",
       "      <td>Wednesday, September 12, 2012 6:08 PM</td>\n",
       "      <td>Secretary's remarks</td>\n",
       "      <td>fvv</td>\n",
       "    </tr>\n",
       "    <tr>\n",
       "      <th>8</th>\n",
       "      <td>11</td>\n",
       "      <td>Jake Sullivan</td>\n",
       "      <td>87</td>\n",
       "      <td>H</td>\n",
       "      <td>80.0</td>\n",
       "      <td>Sunday, March 13, 2011 10:55 AM</td>\n",
       "      <td>AbZ and Hb3 on Libya and West Bank/Gaza</td>\n",
       "      <td>None</td>\n",
       "    </tr>\n",
       "    <tr>\n",
       "      <th>9</th>\n",
       "      <td>13</td>\n",
       "      <td>Jake Sullivan</td>\n",
       "      <td>87</td>\n",
       "      <td>H</td>\n",
       "      <td>80.0</td>\n",
       "      <td>Wednesday, September 12 2012 700 PM</td>\n",
       "      <td>hey</td>\n",
       "      <td>None</td>\n",
       "    </tr>\n",
       "    <tr>\n",
       "      <th>10</th>\n",
       "      <td>14</td>\n",
       "      <td>Anne-Marie Slaughter</td>\n",
       "      <td>10</td>\n",
       "      <td>H</td>\n",
       "      <td>80.0</td>\n",
       "      <td></td>\n",
       "      <td></td>\n",
       "      <td>None</td>\n",
       "    </tr>\n",
       "    <tr>\n",
       "      <th>11</th>\n",
       "      <td>15</td>\n",
       "      <td>Cheryl Mills</td>\n",
       "      <td>32</td>\n",
       "      <td>H</td>\n",
       "      <td>80.0</td>\n",
       "      <td>Wednesday, September 12, 2012 04:33 PM</td>\n",
       "      <td>Not a dry eye in NEA</td>\n",
       "      <td>re</td>\n",
       "    </tr>\n",
       "    <tr>\n",
       "      <th>12</th>\n",
       "      <td>16</td>\n",
       "      <td>Harold Hongju Koh</td>\n",
       "      <td>77</td>\n",
       "      <td>H</td>\n",
       "      <td>80.0</td>\n",
       "      <td></td>\n",
       "      <td></td>\n",
       "      <td>None</td>\n",
       "    </tr>\n",
       "    <tr>\n",
       "      <th>13</th>\n",
       "      <td>17</td>\n",
       "      <td>Wendy Sherman</td>\n",
       "      <td>213</td>\n",
       "      <td>H</td>\n",
       "      <td>80.0</td>\n",
       "      <td>Wednesday, September 12, 2012 9:57 PM</td>\n",
       "      <td>The Youth of Libya</td>\n",
       "      <td>fw</td>\n",
       "    </tr>\n",
       "    <tr>\n",
       "      <th>14</th>\n",
       "      <td>18</td>\n",
       "      <td>Wendy Sherman</td>\n",
       "      <td>213</td>\n",
       "      <td>H</td>\n",
       "      <td>80.0</td>\n",
       "      <td>Wednesday, September 12, 2012 10:03 PM</td>\n",
       "      <td>One More Photo</td>\n",
       "      <td>fw</td>\n",
       "    </tr>\n",
       "    <tr>\n",
       "      <th>15</th>\n",
       "      <td>19</td>\n",
       "      <td>Jake Sullivan</td>\n",
       "      <td>87</td>\n",
       "      <td>H</td>\n",
       "      <td>80.0</td>\n",
       "      <td>Wednesday, September 12 2012 1026 PM</td>\n",
       "      <td>S today</td>\n",
       "      <td>fw</td>\n",
       "    </tr>\n",
       "    <tr>\n",
       "      <th>16</th>\n",
       "      <td>20</td>\n",
       "      <td>Jake Sullivan</td>\n",
       "      <td>87</td>\n",
       "      <td>Sherman, Wendy R</td>\n",
       "      <td>NaN</td>\n",
       "      <td></td>\n",
       "      <td></td>\n",
       "      <td>None</td>\n",
       "    </tr>\n",
       "    <tr>\n",
       "      <th>17</th>\n",
       "      <td>21</td>\n",
       "      <td>Hillary Clinton</td>\n",
       "      <td>80</td>\n",
       "      <td>sullivanjj@state.gov</td>\n",
       "      <td>87.0</td>\n",
       "      <td></td>\n",
       "      <td>more on libya</td>\n",
       "      <td>fw</td>\n",
       "    </tr>\n",
       "    <tr>\n",
       "      <th>18</th>\n",
       "      <td>22</td>\n",
       "      <td>Hillary Clinton</td>\n",
       "      <td>80</td>\n",
       "      <td>Russorv@state.gov</td>\n",
       "      <td>185.0</td>\n",
       "      <td></td>\n",
       "      <td>more on libya</td>\n",
       "      <td>fw</td>\n",
       "    </tr>\n",
       "    <tr>\n",
       "      <th>19</th>\n",
       "      <td>23</td>\n",
       "      <td>Hillary Clinton</td>\n",
       "      <td>80</td>\n",
       "      <td>Russorv@state.gov</td>\n",
       "      <td>185.0</td>\n",
       "      <td>Wednesday, September 12, 2012 11:30 PM</td>\n",
       "      <td>Magariaf on attack on US in Libya. Sid</td>\n",
       "      <td>fw</td>\n",
       "    </tr>\n",
       "  </tbody>\n",
       "</table>\n",
       "</div>"
      ],
      "text/plain": [
       "    Id                Sender  Sender_Id              Receiver  Receiver_Id  \\\n",
       "0    1         Jake Sullivan         87                     H         80.0   \n",
       "1    3          Cheryl Mills         32                    ;H          NaN   \n",
       "2    4          Cheryl Mills         32                     H         80.0   \n",
       "3    5       Hillary Clinton         80          Abedin, Huma          NaN   \n",
       "4    6       Hillary Clinton         80     Russorv@state.gov        185.0   \n",
       "5    7          Cheryl Mills         32                     H         80.0   \n",
       "6    8       Hillary Clinton         80          Abedin, Huma          NaN   \n",
       "7    9         Jake Sullivan         87                     H         80.0   \n",
       "8   11         Jake Sullivan         87                     H         80.0   \n",
       "9   13         Jake Sullivan         87                     H         80.0   \n",
       "10  14  Anne-Marie Slaughter         10                     H         80.0   \n",
       "11  15          Cheryl Mills         32                     H         80.0   \n",
       "12  16     Harold Hongju Koh         77                     H         80.0   \n",
       "13  17         Wendy Sherman        213                     H         80.0   \n",
       "14  18         Wendy Sherman        213                     H         80.0   \n",
       "15  19         Jake Sullivan         87                     H         80.0   \n",
       "16  20         Jake Sullivan         87      Sherman, Wendy R          NaN   \n",
       "17  21       Hillary Clinton         80  sullivanjj@state.gov         87.0   \n",
       "18  22       Hillary Clinton         80     Russorv@state.gov        185.0   \n",
       "19  23       Hillary Clinton         80     Russorv@state.gov        185.0   \n",
       "\n",
       "                         ExtractedDateSent  \\\n",
       "0   Wednesday, September 12, 2012 10:16 AM   \n",
       "1   Wednesday, September 12, 2012 11:52 AM   \n",
       "2    Wednesday, September 12,2012 12:44 PM   \n",
       "3                                            \n",
       "4   Wednesday, September 12, 2012 01:00 PM   \n",
       "5    Wednesday, September 12, 2012 4:00 PM   \n",
       "6                                            \n",
       "7    Wednesday, September 12, 2012 6:08 PM   \n",
       "8          Sunday, March 13, 2011 10:55 AM   \n",
       "9      Wednesday, September 12 2012 700 PM   \n",
       "10                                           \n",
       "11  Wednesday, September 12, 2012 04:33 PM   \n",
       "12                                           \n",
       "13   Wednesday, September 12, 2012 9:57 PM   \n",
       "14  Wednesday, September 12, 2012 10:03 PM   \n",
       "15    Wednesday, September 12 2012 1026 PM   \n",
       "16                                           \n",
       "17                                           \n",
       "18                                           \n",
       "19  Wednesday, September 12, 2012 11:30 PM   \n",
       "\n",
       "                                     ExtractedSubject email_type  \n",
       "0                                                 Wow         fw  \n",
       "1                                       Chris Stevens         re  \n",
       "2                          Cairo Condemnation - Final        fvv  \n",
       "3                                                           None  \n",
       "4   Meet The Right Wing Extremist Behind Anti-Musl...       None  \n",
       "5   Anti-Muslim film director in hiding, following...         fw  \n",
       "6                                                           None  \n",
       "7                                 Secretary's remarks        fvv  \n",
       "8             AbZ and Hb3 on Libya and West Bank/Gaza       None  \n",
       "9                                                 hey       None  \n",
       "10                                                          None  \n",
       "11                               Not a dry eye in NEA         re  \n",
       "12                                                          None  \n",
       "13                                 The Youth of Libya         fw  \n",
       "14                                     One More Photo         fw  \n",
       "15                                            S today         fw  \n",
       "16                                                          None  \n",
       "17                                      more on libya         fw  \n",
       "18                                      more on libya         fw  \n",
       "19             Magariaf on attack on US in Libya. Sid         fw  "
      ]
     },
     "execution_count": 245,
     "metadata": {},
     "output_type": "execute_result"
    }
   ],
   "source": [
    "conn = sqlite3.connect('../hillary-clinton-emails/database.sqlite')\n",
    "sql = \"\"\"select e.Id, p.Name Sender, e.SenderPersonId Sender_Id\n",
    ", e.MetadataTo Receiver, a.PersonId Receiver_Id, e.ExtractedDateSent, e.ExtractedSubject\n",
    "from Emails e \n",
    "inner join Persons p on e.SenderPersonId=p.Id \n",
    "left outer join Aliases a on lower(e.MetadataTo)=a.Alias\n",
    "\"\"\"\n",
    "emails = pd.read_sql_query(sql,conn)\n",
    "temp = emails.ExtractedSubject.apply(clean_subject)\n",
    "emails['ExtractedSubject'] = [tpl[1] for tpl in temp]\n",
    "emails['email_type'] = email_type = [tpl[0] for tpl in temp]\n",
    "emails.head(20)"
   ]
  },
  {
   "cell_type": "markdown",
   "metadata": {},
   "source": [
    "## Clean-up sender receiver"
   ]
  },
  {
   "cell_type": "code",
   "execution_count": 246,
   "metadata": {
    "collapsed": false
   },
   "outputs": [
    {
     "name": "stderr",
     "output_type": "stream",
     "text": [
      "/home/debojyoti/anaconda2/lib/python2.7/site-packages/ipykernel/__main__.py:41: SettingWithCopyWarning: \n",
      "A value is trying to be set on a copy of a slice from a DataFrame\n",
      "\n",
      "See the caveats in the documentation: http://pandas.pydata.org/pandas-docs/stable/indexing.html#indexing-view-versus-copy\n"
     ]
    },
    {
     "name": "stdout",
     "output_type": "stream",
     "text": [
      "Discarded emails:  174\n"
     ]
    },
    {
     "data": {
      "text/html": [
       "<div>\n",
       "<table border=\"1\" class=\"dataframe\">\n",
       "  <thead>\n",
       "    <tr style=\"text-align: right;\">\n",
       "      <th></th>\n",
       "      <th>Id</th>\n",
       "      <th>Sender</th>\n",
       "      <th>Sender_Id</th>\n",
       "      <th>Receiver</th>\n",
       "      <th>Receiver_Id</th>\n",
       "      <th>ExtractedDateSent</th>\n",
       "    </tr>\n",
       "  </thead>\n",
       "  <tbody>\n",
       "    <tr>\n",
       "      <th>0</th>\n",
       "      <td>1</td>\n",
       "      <td>Jake Sullivan</td>\n",
       "      <td>87</td>\n",
       "      <td>H</td>\n",
       "      <td>80.0</td>\n",
       "      <td>Wednesday, September 12, 2012 10:16 AM</td>\n",
       "    </tr>\n",
       "    <tr>\n",
       "      <th>2</th>\n",
       "      <td>4</td>\n",
       "      <td>Cheryl Mills</td>\n",
       "      <td>32</td>\n",
       "      <td>H</td>\n",
       "      <td>80.0</td>\n",
       "      <td>Wednesday, September 12,2012 12:44 PM</td>\n",
       "    </tr>\n",
       "    <tr>\n",
       "      <th>3</th>\n",
       "      <td>5</td>\n",
       "      <td>Hillary Clinton</td>\n",
       "      <td>80</td>\n",
       "      <td>Abedin, Huma</td>\n",
       "      <td>81.0</td>\n",
       "      <td></td>\n",
       "    </tr>\n",
       "    <tr>\n",
       "      <th>4</th>\n",
       "      <td>6</td>\n",
       "      <td>Hillary Clinton</td>\n",
       "      <td>80</td>\n",
       "      <td>Russorv@state.gov</td>\n",
       "      <td>185.0</td>\n",
       "      <td>Wednesday, September 12, 2012 01:00 PM</td>\n",
       "    </tr>\n",
       "    <tr>\n",
       "      <th>5</th>\n",
       "      <td>7</td>\n",
       "      <td>Cheryl Mills</td>\n",
       "      <td>32</td>\n",
       "      <td>H</td>\n",
       "      <td>80.0</td>\n",
       "      <td>Wednesday, September 12, 2012 4:00 PM</td>\n",
       "    </tr>\n",
       "    <tr>\n",
       "      <th>6</th>\n",
       "      <td>8</td>\n",
       "      <td>Hillary Clinton</td>\n",
       "      <td>80</td>\n",
       "      <td>Abedin, Huma</td>\n",
       "      <td>81.0</td>\n",
       "      <td></td>\n",
       "    </tr>\n",
       "    <tr>\n",
       "      <th>7</th>\n",
       "      <td>9</td>\n",
       "      <td>Jake Sullivan</td>\n",
       "      <td>87</td>\n",
       "      <td>H</td>\n",
       "      <td>80.0</td>\n",
       "      <td>Wednesday, September 12, 2012 6:08 PM</td>\n",
       "    </tr>\n",
       "    <tr>\n",
       "      <th>8</th>\n",
       "      <td>11</td>\n",
       "      <td>Jake Sullivan</td>\n",
       "      <td>87</td>\n",
       "      <td>H</td>\n",
       "      <td>80.0</td>\n",
       "      <td>Sunday, March 13, 2011 10:55 AM</td>\n",
       "    </tr>\n",
       "    <tr>\n",
       "      <th>9</th>\n",
       "      <td>13</td>\n",
       "      <td>Jake Sullivan</td>\n",
       "      <td>87</td>\n",
       "      <td>H</td>\n",
       "      <td>80.0</td>\n",
       "      <td>Wednesday, September 12 2012 700 PM</td>\n",
       "    </tr>\n",
       "    <tr>\n",
       "      <th>10</th>\n",
       "      <td>14</td>\n",
       "      <td>Anne-Marie Slaughter</td>\n",
       "      <td>10</td>\n",
       "      <td>H</td>\n",
       "      <td>80.0</td>\n",
       "      <td></td>\n",
       "    </tr>\n",
       "    <tr>\n",
       "      <th>11</th>\n",
       "      <td>15</td>\n",
       "      <td>Cheryl Mills</td>\n",
       "      <td>32</td>\n",
       "      <td>H</td>\n",
       "      <td>80.0</td>\n",
       "      <td>Wednesday, September 12, 2012 04:33 PM</td>\n",
       "    </tr>\n",
       "    <tr>\n",
       "      <th>12</th>\n",
       "      <td>16</td>\n",
       "      <td>Harold Hongju Koh</td>\n",
       "      <td>77</td>\n",
       "      <td>H</td>\n",
       "      <td>80.0</td>\n",
       "      <td></td>\n",
       "    </tr>\n",
       "    <tr>\n",
       "      <th>13</th>\n",
       "      <td>17</td>\n",
       "      <td>Wendy Sherman</td>\n",
       "      <td>213</td>\n",
       "      <td>H</td>\n",
       "      <td>80.0</td>\n",
       "      <td>Wednesday, September 12, 2012 9:57 PM</td>\n",
       "    </tr>\n",
       "    <tr>\n",
       "      <th>14</th>\n",
       "      <td>18</td>\n",
       "      <td>Wendy Sherman</td>\n",
       "      <td>213</td>\n",
       "      <td>H</td>\n",
       "      <td>80.0</td>\n",
       "      <td>Wednesday, September 12, 2012 10:03 PM</td>\n",
       "    </tr>\n",
       "    <tr>\n",
       "      <th>15</th>\n",
       "      <td>19</td>\n",
       "      <td>Jake Sullivan</td>\n",
       "      <td>87</td>\n",
       "      <td>H</td>\n",
       "      <td>80.0</td>\n",
       "      <td>Wednesday, September 12 2012 1026 PM</td>\n",
       "    </tr>\n",
       "    <tr>\n",
       "      <th>16</th>\n",
       "      <td>20</td>\n",
       "      <td>Jake Sullivan</td>\n",
       "      <td>87</td>\n",
       "      <td>Sherman, Wendy R</td>\n",
       "      <td>213.0</td>\n",
       "      <td></td>\n",
       "    </tr>\n",
       "    <tr>\n",
       "      <th>17</th>\n",
       "      <td>21</td>\n",
       "      <td>Hillary Clinton</td>\n",
       "      <td>80</td>\n",
       "      <td>sullivanjj@state.gov</td>\n",
       "      <td>87.0</td>\n",
       "      <td></td>\n",
       "    </tr>\n",
       "    <tr>\n",
       "      <th>18</th>\n",
       "      <td>22</td>\n",
       "      <td>Hillary Clinton</td>\n",
       "      <td>80</td>\n",
       "      <td>Russorv@state.gov</td>\n",
       "      <td>185.0</td>\n",
       "      <td></td>\n",
       "    </tr>\n",
       "    <tr>\n",
       "      <th>19</th>\n",
       "      <td>23</td>\n",
       "      <td>Hillary Clinton</td>\n",
       "      <td>80</td>\n",
       "      <td>Russorv@state.gov</td>\n",
       "      <td>185.0</td>\n",
       "      <td>Wednesday, September 12, 2012 11:30 PM</td>\n",
       "    </tr>\n",
       "    <tr>\n",
       "      <th>20</th>\n",
       "      <td>24</td>\n",
       "      <td>Hillary Clinton</td>\n",
       "      <td>80</td>\n",
       "      <td>sullivanjj@state.gov</td>\n",
       "      <td>87.0</td>\n",
       "      <td>Wednesday, September 12, 2012 11:30 PM</td>\n",
       "    </tr>\n",
       "  </tbody>\n",
       "</table>\n",
       "</div>"
      ],
      "text/plain": [
       "    Id                Sender  Sender_Id              Receiver  Receiver_Id  \\\n",
       "0    1         Jake Sullivan         87                     H         80.0   \n",
       "2    4          Cheryl Mills         32                     H         80.0   \n",
       "3    5       Hillary Clinton         80          Abedin, Huma         81.0   \n",
       "4    6       Hillary Clinton         80     Russorv@state.gov        185.0   \n",
       "5    7          Cheryl Mills         32                     H         80.0   \n",
       "6    8       Hillary Clinton         80          Abedin, Huma         81.0   \n",
       "7    9         Jake Sullivan         87                     H         80.0   \n",
       "8   11         Jake Sullivan         87                     H         80.0   \n",
       "9   13         Jake Sullivan         87                     H         80.0   \n",
       "10  14  Anne-Marie Slaughter         10                     H         80.0   \n",
       "11  15          Cheryl Mills         32                     H         80.0   \n",
       "12  16     Harold Hongju Koh         77                     H         80.0   \n",
       "13  17         Wendy Sherman        213                     H         80.0   \n",
       "14  18         Wendy Sherman        213                     H         80.0   \n",
       "15  19         Jake Sullivan         87                     H         80.0   \n",
       "16  20         Jake Sullivan         87      Sherman, Wendy R        213.0   \n",
       "17  21       Hillary Clinton         80  sullivanjj@state.gov         87.0   \n",
       "18  22       Hillary Clinton         80     Russorv@state.gov        185.0   \n",
       "19  23       Hillary Clinton         80     Russorv@state.gov        185.0   \n",
       "20  24       Hillary Clinton         80  sullivanjj@state.gov         87.0   \n",
       "\n",
       "                         ExtractedDateSent  \n",
       "0   Wednesday, September 12, 2012 10:16 AM  \n",
       "2    Wednesday, September 12,2012 12:44 PM  \n",
       "3                                           \n",
       "4   Wednesday, September 12, 2012 01:00 PM  \n",
       "5    Wednesday, September 12, 2012 4:00 PM  \n",
       "6                                           \n",
       "7    Wednesday, September 12, 2012 6:08 PM  \n",
       "8          Sunday, March 13, 2011 10:55 AM  \n",
       "9      Wednesday, September 12 2012 700 PM  \n",
       "10                                          \n",
       "11  Wednesday, September 12, 2012 04:33 PM  \n",
       "12                                          \n",
       "13   Wednesday, September 12, 2012 9:57 PM  \n",
       "14  Wednesday, September 12, 2012 10:03 PM  \n",
       "15    Wednesday, September 12 2012 1026 PM  \n",
       "16                                          \n",
       "17                                          \n",
       "18                                          \n",
       "19  Wednesday, September 12, 2012 11:30 PM  \n",
       "20  Wednesday, September 12, 2012 11:30 PM  "
      ]
     },
     "execution_count": 246,
     "metadata": {},
     "output_type": "execute_result"
    }
   ],
   "source": [
    "# Fetch data in pandas dataframe\n",
    "conn = sqlite3.connect('../hillary-clinton-emails/database.sqlite')\n",
    "# sql = \"select * from Emails\"\n",
    "# emails = pd.read_sql_query(sql,conn)\n",
    "# columns = ['Id','SenderPersonId','MetadataFrom','MetadataTo','ExtractedDateSent','ExtractedSubject','ExtractedBodyText']\n",
    "# emails[columns].head(5)\n",
    "# emails[emails['SenderPersonId']==80][columns].head(5)\n",
    "# x = emails.groupby('SenderPersonId').size()\n",
    "# print 'No of mails sent by HC =',x[80]\n",
    "\n",
    "# Assign receiver Id\n",
    "sql = \"\"\"select e.Id, p.Name Sender, \n",
    "e.SenderPersonId Sender_Id, e.MetadataTo Receiver, a.PersonId Receiver_Id, e.ExtractedDateSent\n",
    "from Emails e \n",
    "inner join Persons p on e.SenderPersonId=p.Id \n",
    "left outer join Aliases a on lower(e.MetadataTo)=a.Alias\n",
    "\"\"\"\n",
    "emails = pd.read_sql_query(sql,conn)\n",
    "# emails_noNA = emails.dropna(how='any')\n",
    "# emails.head(20)\n",
    "idx_NaN = [i for i,val in enumerate(emails['Receiver_Id']) if np.isnan(val)]\n",
    "\n",
    "\n",
    "# Create dictionary personId:name\n",
    "sql = \"select * from Persons\"\n",
    "persons = pd.read_sql_query(sql,conn)\n",
    "persons_dict = {}\n",
    "for entry in persons.itertuples():\n",
    "    persons_dict[entry[2]]=entry[1]\n",
    "    \n",
    "# Fill up missing Receiver_Id fields\n",
    "receiver_dict = {}\n",
    "pattern = re.compile('^(\\w+),\\sp*(\\w+)')\n",
    "for idx in idx_NaN:\n",
    "    name = emails['Receiver'][idx]\n",
    "    pat_obj = pattern.match(name)\n",
    "    if pat_obj!=None:\n",
    "        person_name = pat_obj.group(2)+' '+pat_obj.group(1)\n",
    "        try:\n",
    "            person_id = persons_dict[person_name]\n",
    "            emails['Receiver_Id'][idx]=person_id\n",
    "        except:\n",
    "            pass\n",
    "temp = emails.shape[0]\n",
    "emails = emails.dropna(how='any')\n",
    "print 'Discarded emails: ',temp-emails.shape[0]\n",
    "\n",
    "emails.head(20)"
   ]
  },
  {
   "cell_type": "markdown",
   "metadata": {},
   "source": [
    "## Clean up date"
   ]
  },
  {
   "cell_type": "code",
   "execution_count": 6,
   "metadata": {
    "collapsed": false
   },
   "outputs": [],
   "source": [
    "# txt = 'Thursday, September 30, 2010 9:04 PM'\n",
    "# txt = 'Thu Sep 17 06:03:43 2009'\n",
    "def clean_date_aux(ts):\n",
    "    pat = re.compile('\\'?(?P<weekday>\\w+),?\\s*(?P<month>\\w+) (?P<date>\\d+),?\\s*(?P<year>\\d+) (?P<time>.+) (?P<ampm>[A|P]M)')\n",
    "    pat1 = re.compile('(?P<weekday>.+) (?P<month>.+) (?P<date>.+) (?P<time>.+) (?P<year>.+)')\n",
    "    if ts=='':\n",
    "        return np.NAN\n",
    "    re_obj = None\n",
    "    try:\n",
    "        if pat.match(ts)!=None:\n",
    "            re_obj = pat.match(ts)\n",
    "        elif pat1.match(ts)!=None:\n",
    "            re_obj = pat1.match(ts)\n",
    "        else:\n",
    "            raise\n",
    "        # Process date\n",
    "        month = re_obj.group('month')\n",
    "        day = re_obj.group('date')\n",
    "        year = re_obj.group('year')\n",
    "        time = re_obj.group('time').replace('.',':')\n",
    "        # Check for numeric value of day and year\n",
    "        try:\n",
    "            month = month[:3]\n",
    "            day = int(day)\n",
    "            year = int(year)\n",
    "        except:\n",
    "            raise\n",
    "        # Check time string\n",
    "        if ':' not in time and len(time)>2:\n",
    "            time = time[:-2]+':'+time[-2:]\n",
    "        try:\n",
    "            time = time + ' ' + re_obj.group('ampm')\n",
    "        except:\n",
    "            pass\n",
    "        ts_str = \"{} {} {} {}\".format(month,day,year,time)\n",
    "        try:\n",
    "            pd_ts = pd.to_datetime(ts_str)\n",
    "            return pd_ts\n",
    "        except:\n",
    "            raise\n",
    "    except:\n",
    "        return np.NAN"
   ]
  },
  {
   "cell_type": "code",
   "execution_count": 7,
   "metadata": {
    "collapsed": false
   },
   "outputs": [
    {
     "data": {
      "text/plain": [
       "6306"
      ]
     },
     "execution_count": 7,
     "metadata": {},
     "output_type": "execute_result"
    }
   ],
   "source": [
    "def clean_date(raw_date):\n",
    "    return clean_date_aux(raw_date)\n",
    "emails['Date']=emails.ExtractedDateSent.apply(clean_date)\n",
    "emails.head(10)\n",
    "# emails = emails.dropna(how='any')\n",
    "emails.index = emails.Date\n",
    "emails.sort_index(inplace=True)\n",
    "mindate,maxdate = emails.index.min(),emails.index.max()\n",
    "\"Date Range from {} to {}\".format(mindate.date(),maxdate.date())\n",
    "emails[:'2011-01'].Id.count()"
   ]
  },
  {
   "cell_type": "markdown",
   "metadata": {},
   "source": [
    "## Process email body: Topic modelling"
   ]
  },
  {
   "cell_type": "code",
   "execution_count": 41,
   "metadata": {
    "collapsed": false
   },
   "outputs": [],
   "source": [
    "from gensim.utils import simple_preprocess\n",
    "from gensim.parsing.preprocessing import STOPWORDS\n",
    "import gensim\n",
    "import logging\n",
    "logging.basicConfig(format='%(levelname)s : %(message)s', level=logging.INFO)\n",
    "logging.root.level = logging.INFO  # ipython sometimes messes up the logging setup; restore"
   ]
  },
  {
   "cell_type": "code",
   "execution_count": 80,
   "metadata": {
    "collapsed": true
   },
   "outputs": [],
   "source": [
    "class HillaryEmails(object):\n",
    "    def __init__(self,doc_vectors):\n",
    "        self.doc_vectors = doc_vectors\n",
    "    def __iter__(self):\n",
    "        for vector in self.doc_vectors:\n",
    "            yield vector"
   ]
  },
  {
   "cell_type": "code",
   "execution_count": 82,
   "metadata": {
    "collapsed": false
   },
   "outputs": [
    {
     "name": "stderr",
     "output_type": "stream",
     "text": [
      "INFO : adding document #0 to Dictionary(0 unique tokens: [])\n",
      "INFO : built Dictionary(4249 unique tokens: [u'voluble', u'secondly', u'ams', u'marketwire', u'cretz']...) from 1993 documents (total 17317 corpus positions)\n",
      "INFO : storing corpus in Matrix Market format to emails_bow.mm\n",
      "INFO : saving sparse matrix to emails_bow.mm\n",
      "INFO : PROGRESS: saving document #0\n"
     ]
    },
    {
     "name": "stdout",
     "output_type": "stream",
     "text": [
      "1993\n",
      "CPU times: user 64 ms, sys: 12 ms, total: 76 ms\n",
      "Wall time: 64.8 ms\n"
     ]
    },
    {
     "name": "stderr",
     "output_type": "stream",
     "text": [
      "INFO : PROGRESS: saving document #1000\n",
      "INFO : saved 1993x4249 matrix, density=0.187% (15844/8468257)\n",
      "INFO : saving MmCorpus index to emails_bow.mm.index\n"
     ]
    },
    {
     "name": "stdout",
     "output_type": "stream",
     "text": [
      "CPU times: user 176 ms, sys: 0 ns, total: 176 ms\n",
      "Wall time: 177 ms\n"
     ]
    }
   ],
   "source": [
    "def tokenize(text):\n",
    "    text = text.replace(\"\\n\",\" \")\n",
    "    return [token for token in simple_preprocess(text) if token not in STOPWORDS]\n",
    "def do_BoW(tokens):\n",
    "    return vocab.doc2bow(tokens)\n",
    "def get_maxwords(vector):\n",
    "    minimum = int(len(vector)*0.2)\n",
    "    minimum = min(10,minimum)\n",
    "    global vocab\n",
    "    temp = sorted(vector,key=lambda x:x[1],reverse=True)\n",
    "    topic = [vocab[it[0]] for it in temp[:minimum]]\n",
    "    return topic\n",
    "conn = sqlite3.connect('../hillary-clinton-emails/database.sqlite')\n",
    "sql = \"\"\"select e.Id, p.Name Sender, \n",
    "e.SenderPersonId Sender_Id, e.ExtractedDateSent, e.ExtractedBodyText\n",
    "from Emails e \n",
    "inner join Persons p on e.SenderPersonId=p.Id\n",
    "\"\"\"\n",
    "emails = pd.read_sql_query(sql,conn)\n",
    "emails['ExtractedDateSent']=emails.ExtractedDateSent.apply(clean_date)\n",
    "# Step 1: Mails from Hillary\n",
    "emails = emails[emails['Sender_Id']==80]\n",
    "# Step 2: Tokenize email body\n",
    "email_tokens = emails.ExtractedBodyText.apply(tokenize)\n",
    "doc_stream = [tokens for tokens in email_tokens]\n",
    "print len(doc_stream)\n",
    "# Step 3: Build Vocabulary\n",
    "%time vocab = gensim.corpora.Dictionary(doc_stream)\n",
    "    # print vocab.items()\n",
    "    # vocab.filter_extremes(no_below=20,no_above=0.8)\n",
    "    # vocab.filter_extremes(no_above=0.5)\n",
    "# Step 4: Run BoW on docs\n",
    "vectors_doc = email_tokens.apply(do_BoW)\n",
    "maxwords = vectors_doc.apply(get_maxwords)\n",
    "#Step 5: save doc vectors in mm file\n",
    "hillary_emails_corpus = HillaryEmails(vectors_doc)\n",
    "%time gensim.corpora.MmCorpus.serialize('emails_bow.mm',hillary_emails_corpus)"
   ]
  },
  {
   "cell_type": "code",
   "execution_count": 86,
   "metadata": {
    "collapsed": false
   },
   "outputs": [
    {
     "name": "stderr",
     "output_type": "stream",
     "text": [
      "INFO : loaded corpus index from emails_bow.mm.index\n",
      "INFO : initializing corpus reader from emails_bow.mm\n",
      "INFO : accepted corpus with 1993 documents, 4249 features, 15844 non-zero entries\n",
      "INFO : using symmetric alpha at 0.05\n",
      "INFO : using symmetric eta at 0.05\n",
      "INFO : using serial LDA version on this node\n"
     ]
    },
    {
     "name": "stdout",
     "output_type": "stream",
     "text": [
      "MmCorpus(1993 documents, 4249 features, 15844 non-zero entries)\n"
     ]
    },
    {
     "name": "stderr",
     "output_type": "stream",
     "text": [
      "WARNING : input corpus stream has no len(); counting documents\n",
      "INFO : running online LDA training, 20 topics, 4 passes over the supplied corpus of 1600 documents, updating model once every 1600 documents, evaluating perplexity every 1600 documents, iterating 50x with a convergence threshold of 0.001000\n",
      "WARNING : too few updates, training might not converge; consider increasing the number of passes or iterations to improve accuracy\n",
      "INFO : -20.091 per-word bound, 1116804.3 perplexity estimate based on a held-out corpus of 1600 documents with 14746 words\n",
      "INFO : PROGRESS: pass 0, at document #1600/1600\n",
      "INFO : topic #15 (0.050): 0.016*thx + 0.016*state + 0.013*com + 0.012*gov + 0.011*hrod + 0.010*clintonemail + 0.008*best + 0.008*pm + 0.006*tomorrow + 0.006*forward\n",
      "INFO : topic #9 (0.050): 0.022*pls + 0.016*print + 0.014*time + 0.013*state + 0.010*thx + 0.009*pm + 0.008*house + 0.007*help + 0.007*thank + 0.007*like\n",
      "INFO : topic #18 (0.050): 0.017*pis + 0.013*thx + 0.011*print + 0.007*need + 0.006*help + 0.005*tomorrow + 0.005*sure + 0.005*know + 0.005*think + 0.005*tom\n",
      "INFO : topic #6 (0.050): 0.016*pis + 0.008*thx + 0.007*soon + 0.007*hope + 0.006*ok + 0.006*want + 0.006*know + 0.006*free + 0.006*email + 0.006*leave\n",
      "INFO : topic #1 (0.050): 0.017*state + 0.014*thx + 0.013*gov + 0.013*let + 0.012*com + 0.011*hrod + 0.009*know + 0.009*clintonemail + 0.007*pm + 0.007*pls\n",
      "INFO : topic diff=13.812155, rho=1.000000\n",
      "INFO : -10.240 per-word bound, 1209.3 perplexity estimate based on a held-out corpus of 1600 documents with 14746 words\n",
      "INFO : PROGRESS: pass 1, at document #1600/1600\n",
      "INFO : topic #1 (0.050): 0.014*state + 0.011*gov + 0.011*thx + 0.011*com + 0.010*hrod + 0.009*let + 0.008*parlak + 0.008*clintonemail + 0.007*need + 0.007*know\n",
      "INFO : topic #19 (0.050): 0.033*state + 0.032*gov + 0.026*clintonemail + 0.026*com + 0.025*hrod + 0.020*pm + 0.010*fw + 0.009*pls + 0.009*wednesday + 0.008*print\n",
      "INFO : topic #0 (0.050): 0.025*yes + 0.016*like + 0.013*com + 0.012*clintonemail + 0.012*hrod + 0.011*state + 0.010*release + 0.009*pls + 0.008*pm + 0.007*follow\n",
      "INFO : topic #5 (0.050): 0.009*discuss + 0.008*let + 0.008*pis + 0.007*leave + 0.007*tell + 0.007*email + 0.007*speech + 0.006*tomorrow + 0.006*want + 0.005*told\n",
      "INFO : topic #13 (0.050): 0.054*ok + 0.023*state + 0.013*thx + 0.010*pm + 0.009*department + 0.008*dc + 0.007*house + 0.007*office + 0.007*release + 0.007*monday\n",
      "INFO : topic diff=1.037960, rho=0.577350\n",
      "INFO : -9.725 per-word bound, 846.4 perplexity estimate based on a held-out corpus of 1600 documents with 14746 words\n",
      "INFO : PROGRESS: pass 2, at document #1600/1600\n",
      "INFO : topic #17 (0.050): 0.015*know + 0.014*lona + 0.011*copying + 0.010*thanks + 0.010*year + 0.010*let + 0.010*talk + 0.009*pls + 0.008*days + 0.007*like\n",
      "INFO : topic #19 (0.050): 0.045*state + 0.045*gov + 0.034*clintonemail + 0.034*com + 0.033*hrod + 0.025*pm + 0.015*fw + 0.010*wednesday + 0.009*print + 0.009*pls\n",
      "INFO : topic #5 (0.050): 0.010*discuss + 0.009*later + 0.008*let + 0.008*leave + 0.008*pis + 0.008*speech + 0.008*tell + 0.007*email + 0.006*fine + 0.006*today\n",
      "INFO : topic #8 (0.050): 0.014*state + 0.012*pls + 0.012*mtg + 0.009*add + 0.008*list + 0.008*com + 0.007*hrod + 0.007*schedule + 0.006*clintonemail + 0.006*ask\n",
      "INFO : topic #13 (0.050): 0.059*ok + 0.025*state + 0.011*thx + 0.011*pm + 0.010*department + 0.009*house + 0.008*benghazi + 0.008*office + 0.008*dc + 0.008*doc\n",
      "INFO : topic diff=0.687298, rho=0.500000\n",
      "INFO : -9.529 per-word bound, 738.8 perplexity estimate based on a held-out corpus of 1600 documents with 14746 words\n",
      "INFO : PROGRESS: pass 3, at document #1600/1600\n",
      "INFO : topic #2 (0.050): 0.014*pls + 0.011*coming + 0.011*thx + 0.010*know + 0.009*print + 0.008*fax + 0.008*want + 0.008*home + 0.007*huma + 0.006*email\n",
      "INFO : topic #13 (0.050): 0.062*ok + 0.027*state + 0.012*department + 0.011*pm + 0.011*house + 0.010*thx + 0.010*benghazi + 0.009*doc + 0.008*sensitive + 0.008*office\n",
      "INFO : topic #8 (0.050): 0.013*mtg + 0.013*pls + 0.012*state + 0.010*add + 0.009*list + 0.007*schedule + 0.007*ask + 0.006*ready + 0.006*com + 0.006*hrod\n",
      "INFO : topic #3 (0.050): 0.022*send + 0.014*thx + 0.014*work + 0.012*pls + 0.012*time + 0.011*want + 0.010*let + 0.009*like + 0.009*know + 0.008*told\n",
      "INFO : topic #12 (0.050): 0.019*pls + 0.015*talk + 0.012*time + 0.011*work + 0.010*try + 0.010*set + 0.009*year + 0.009*hope + 0.008*best + 0.008*asap\n",
      "INFO : topic diff=0.456184, rho=0.447214\n"
     ]
    },
    {
     "name": "stdout",
     "output_type": "stream",
     "text": [
      "CPU times: user 30.8 s, sys: 228 ms, total: 31.1 s\n",
      "Wall time: 24.1 s\n"
     ]
    }
   ],
   "source": [
    "hillary_mm_corpus = gensim.corpora.MmCorpus('emails_bow.mm')\n",
    "print hillary_mm_corpus\n",
    "clipped_corpus = gensim.utils.ClippedCorpus(hillary_emails_corpus,1600)\n",
    "%time lda_model = gensim.models.LdaModel(clipped_corpus, num_topics=20, id2word=vocab, passes=4)"
   ]
  },
  {
   "cell_type": "code",
   "execution_count": 88,
   "metadata": {
    "collapsed": false
   },
   "outputs": [
    {
     "name": "stderr",
     "output_type": "stream",
     "text": [
      "INFO : topic #0 (0.050): 0.038*yes + 0.019*release + 0.018*like + 0.009*com + 0.009*hrod + 0.009*clintonemail + 0.009*state + 0.008*follow + 0.006*sunday + 0.006*kudos\n",
      "INFO : topic #1 (0.050): 0.010*parlak + 0.009*state + 0.008*need + 0.007*thx + 0.007*com + 0.007*let + 0.007*diplomacy + 0.006*gov + 0.006*immigration + 0.005*know\n",
      "INFO : topic #2 (0.050): 0.014*pls + 0.011*coming + 0.011*thx + 0.010*know + 0.009*print + 0.008*fax + 0.008*want + 0.008*home + 0.007*huma + 0.006*email\n",
      "INFO : topic #3 (0.050): 0.022*send + 0.014*thx + 0.014*work + 0.012*pls + 0.012*time + 0.011*want + 0.010*let + 0.009*like + 0.009*know + 0.008*told\n",
      "INFO : topic #4 (0.050): 0.014*need + 0.013*time + 0.010*know + 0.009*hrod + 0.008*thx + 0.008*ok + 0.007*com + 0.007*think + 0.007*decision + 0.007*pm\n",
      "INFO : topic #5 (0.050): 0.011*later + 0.010*discuss + 0.009*leave + 0.009*speech + 0.008*pis + 0.008*let + 0.008*tell + 0.008*fine + 0.008*email + 0.006*today\n",
      "INFO : topic #6 (0.050): 0.016*pis + 0.016*email + 0.013*agree + 0.010*info + 0.009*thx + 0.009*soon + 0.008*hope + 0.007*want + 0.006*joe + 0.006*copy\n",
      "INFO : topic #7 (0.050): 0.027*hrod + 0.027*let + 0.026*com + 0.026*clintonemail + 0.022*know + 0.022*talk + 0.016*ok + 0.014*tomorrow + 0.013*pm + 0.011*state\n",
      "INFO : topic #8 (0.050): 0.013*mtg + 0.013*pls + 0.012*state + 0.010*add + 0.009*list + 0.007*schedule + 0.007*ask + 0.006*ready + 0.006*com + 0.006*hrod\n",
      "INFO : topic #9 (0.050): 0.020*time + 0.019*pls + 0.010*house + 0.009*thank + 0.009*thx + 0.008*like + 0.008*work + 0.007*thursday + 0.007*state + 0.007*th\n",
      "INFO : topic #10 (0.050): 0.018*com + 0.012*http + 0.012*fyi + 0.009*state + 0.008*know + 0.008*www + 0.007*need + 0.007*thx + 0.006*clintonemail + 0.006*million\n",
      "INFO : topic #11 (0.050): 0.020*thx + 0.013*pm + 0.010*need + 0.009*time + 0.008*com + 0.008*confirmed + 0.008*ll + 0.008*hrod + 0.008*clintonemail + 0.008*pls\n",
      "INFO : topic #12 (0.050): 0.019*pls + 0.015*talk + 0.012*time + 0.011*work + 0.010*try + 0.010*set + 0.009*year + 0.009*hope + 0.008*best + 0.008*asap\n",
      "INFO : topic #13 (0.050): 0.062*ok + 0.027*state + 0.012*department + 0.011*pm + 0.011*house + 0.010*thx + 0.010*benghazi + 0.009*doc + 0.008*sensitive + 0.008*office\n",
      "INFO : topic #14 (0.050): 0.023*good + 0.018*want + 0.013*let + 0.010*thx + 0.009*com + 0.009*clintonemail + 0.009*state + 0.009*sounds + 0.008*tuesday + 0.008*hrod\n",
      "INFO : topic #15 (0.050): 0.030*thx + 0.015*state + 0.011*gov + 0.011*com + 0.011*hrod + 0.010*best + 0.010*clintonemail + 0.009*great + 0.008*forward + 0.008*pm\n",
      "INFO : topic #16 (0.050): 0.095*print + 0.079*pls + 0.038*pis + 0.008*calling + 0.008*early + 0.008*tomorrow + 0.008*plan + 0.008*lewis + 0.008*tell + 0.006*monday\n",
      "INFO : topic #17 (0.050): 0.016*know + 0.016*lona + 0.012*copying + 0.012*thanks + 0.010*year + 0.010*let + 0.010*talk + 0.009*schedule + 0.009*pls + 0.008*hope\n",
      "INFO : topic #18 (0.050): 0.009*obama + 0.009*british + 0.009*afghanistan + 0.008*brown + 0.008*government + 0.007*president + 0.006*mr + 0.006*britain + 0.006*uk + 0.006*administration\n",
      "INFO : topic #19 (0.050): 0.054*gov + 0.054*state + 0.041*clintonemail + 0.041*hrod + 0.040*com + 0.029*pm + 0.019*fw + 0.011*wednesday + 0.010*print + 0.010*jilotylc\n"
     ]
    },
    {
     "data": {
      "text/plain": [
       "[(0,\n",
       "  u'0.038*yes + 0.019*release + 0.018*like + 0.009*com + 0.009*hrod + 0.009*clintonemail + 0.009*state + 0.008*follow + 0.006*sunday + 0.006*kudos'),\n",
       " (1,\n",
       "  u'0.010*parlak + 0.009*state + 0.008*need + 0.007*thx + 0.007*com + 0.007*let + 0.007*diplomacy + 0.006*gov + 0.006*immigration + 0.005*know'),\n",
       " (2,\n",
       "  u'0.014*pls + 0.011*coming + 0.011*thx + 0.010*know + 0.009*print + 0.008*fax + 0.008*want + 0.008*home + 0.007*huma + 0.006*email'),\n",
       " (3,\n",
       "  u'0.022*send + 0.014*thx + 0.014*work + 0.012*pls + 0.012*time + 0.011*want + 0.010*let + 0.009*like + 0.009*know + 0.008*told'),\n",
       " (4,\n",
       "  u'0.014*need + 0.013*time + 0.010*know + 0.009*hrod + 0.008*thx + 0.008*ok + 0.007*com + 0.007*think + 0.007*decision + 0.007*pm'),\n",
       " (5,\n",
       "  u'0.011*later + 0.010*discuss + 0.009*leave + 0.009*speech + 0.008*pis + 0.008*let + 0.008*tell + 0.008*fine + 0.008*email + 0.006*today'),\n",
       " (6,\n",
       "  u'0.016*pis + 0.016*email + 0.013*agree + 0.010*info + 0.009*thx + 0.009*soon + 0.008*hope + 0.007*want + 0.006*joe + 0.006*copy'),\n",
       " (7,\n",
       "  u'0.027*hrod + 0.027*let + 0.026*com + 0.026*clintonemail + 0.022*know + 0.022*talk + 0.016*ok + 0.014*tomorrow + 0.013*pm + 0.011*state'),\n",
       " (8,\n",
       "  u'0.013*mtg + 0.013*pls + 0.012*state + 0.010*add + 0.009*list + 0.007*schedule + 0.007*ask + 0.006*ready + 0.006*com + 0.006*hrod'),\n",
       " (9,\n",
       "  u'0.020*time + 0.019*pls + 0.010*house + 0.009*thank + 0.009*thx + 0.008*like + 0.008*work + 0.007*thursday + 0.007*state + 0.007*th'),\n",
       " (10,\n",
       "  u'0.018*com + 0.012*http + 0.012*fyi + 0.009*state + 0.008*know + 0.008*www + 0.007*need + 0.007*thx + 0.006*clintonemail + 0.006*million'),\n",
       " (11,\n",
       "  u'0.020*thx + 0.013*pm + 0.010*need + 0.009*time + 0.008*com + 0.008*confirmed + 0.008*ll + 0.008*hrod + 0.008*clintonemail + 0.008*pls'),\n",
       " (12,\n",
       "  u'0.019*pls + 0.015*talk + 0.012*time + 0.011*work + 0.010*try + 0.010*set + 0.009*year + 0.009*hope + 0.008*best + 0.008*asap'),\n",
       " (13,\n",
       "  u'0.062*ok + 0.027*state + 0.012*department + 0.011*pm + 0.011*house + 0.010*thx + 0.010*benghazi + 0.009*doc + 0.008*sensitive + 0.008*office'),\n",
       " (14,\n",
       "  u'0.023*good + 0.018*want + 0.013*let + 0.010*thx + 0.009*com + 0.009*clintonemail + 0.009*state + 0.009*sounds + 0.008*tuesday + 0.008*hrod'),\n",
       " (15,\n",
       "  u'0.030*thx + 0.015*state + 0.011*gov + 0.011*com + 0.011*hrod + 0.010*best + 0.010*clintonemail + 0.009*great + 0.008*forward + 0.008*pm'),\n",
       " (16,\n",
       "  u'0.095*print + 0.079*pls + 0.038*pis + 0.008*calling + 0.008*early + 0.008*tomorrow + 0.008*plan + 0.008*lewis + 0.008*tell + 0.006*monday'),\n",
       " (17,\n",
       "  u'0.016*know + 0.016*lona + 0.012*copying + 0.012*thanks + 0.010*year + 0.010*let + 0.010*talk + 0.009*schedule + 0.009*pls + 0.008*hope'),\n",
       " (18,\n",
       "  u'0.009*obama + 0.009*british + 0.009*afghanistan + 0.008*brown + 0.008*government + 0.007*president + 0.006*mr + 0.006*britain + 0.006*uk + 0.006*administration'),\n",
       " (19,\n",
       "  u'0.054*gov + 0.054*state + 0.041*clintonemail + 0.041*hrod + 0.040*com + 0.029*pm + 0.019*fw + 0.011*wednesday + 0.010*print + 0.010*jilotylc')]"
      ]
     },
     "execution_count": 88,
     "metadata": {},
     "output_type": "execute_result"
    }
   ],
   "source": [
    "lda_model.print_topics(-1)"
   ]
  },
  {
   "cell_type": "code",
   "execution_count": 90,
   "metadata": {
    "collapsed": false
   },
   "outputs": [
    {
     "name": "stderr",
     "output_type": "stream",
     "text": [
      "INFO : collecting document frequencies\n",
      "INFO : PROGRESS: processing document #0\n",
      "INFO : calculating IDF weights for 1993 documents and 4248 features (15844 matrix non-zeros)\n",
      "INFO : using serial LSI version on this node\n",
      "INFO : updating model with new documents\n"
     ]
    },
    {
     "name": "stdout",
     "output_type": "stream",
     "text": [
      "CPU times: user 204 ms, sys: 12 ms, total: 216 ms\n",
      "Wall time: 210 ms\n"
     ]
    },
    {
     "name": "stderr",
     "output_type": "stream",
     "text": [
      "INFO : preparing a new chunk of documents\n",
      "INFO : using 100 extra samples and 2 power iterations\n",
      "INFO : 1st phase: constructing (4249, 300) action matrix\n",
      "INFO : orthonormalizing (4249, 300) action matrix\n",
      "INFO : 2nd phase: running dense svd on (300, 1993) matrix\n",
      "INFO : computing the final decomposition\n",
      "INFO : keeping 200 factors (discarding 12.508% of energy spectrum)\n",
      "INFO : processed documents up to #1993\n",
      "INFO : topic #0(9.460): 0.995*\"ok\" + 0.074*\"thx\" + 0.033*\"pls\" + 0.024*\"print\" + 0.017*\"talk\" + 0.010*\"dc\" + 0.009*\"pis\" + 0.008*\"let\" + 0.008*\"clintonemail\" + 0.008*\"tomorrow\"\n",
      "INFO : topic #1(8.125): -0.787*\"print\" + -0.530*\"pls\" + -0.268*\"pis\" + -0.049*\"gov\" + -0.047*\"state\" + 0.045*\"ok\" + -0.044*\"hrod\" + -0.044*\"clintonemail\" + -0.043*\"copies\" + -0.043*\"com\"\n",
      "INFO : topic #2(5.791): 0.869*\"thx\" + 0.144*\"state\" + 0.143*\"gov\" + 0.139*\"hrod\" + 0.139*\"clintonemail\" + 0.138*\"com\" + 0.109*\"pm\" + 0.098*\"yes\" + -0.096*\"print\" + 0.085*\"talk\"\n",
      "INFO : topic #3(5.447): 0.429*\"thx\" + -0.337*\"gov\" + -0.335*\"state\" + -0.309*\"hrod\" + -0.308*\"clintonemail\" + -0.307*\"com\" + -0.235*\"pm\" + -0.174*\"fw\" + -0.136*\"jilotylc\" + 0.113*\"pls\"\n",
      "INFO : topic #4(4.831): 0.807*\"pis\" + -0.551*\"pls\" + 0.120*\"print\" + -0.045*\"state\" + -0.045*\"talk\" + -0.043*\"gov\" + -0.041*\"clintonemail\" + -0.039*\"hrod\" + -0.039*\"com\" + -0.037*\"release\"\n"
     ]
    },
    {
     "name": "stdout",
     "output_type": "stream",
     "text": [
      "CPU times: user 1.6 s, sys: 28 ms, total: 1.63 s\n",
      "Wall time: 1.39 s\n"
     ]
    }
   ],
   "source": [
    "%time tfidf_model = gensim.models.TfidfModel(hillary_mm_corpus, id2word=vocab)\n",
    "%time lsi_model = gensim.models.LsiModel(tfidf_model[hillary_mm_corpus], id2word=vocab, num_topics=200)"
   ]
  },
  {
   "cell_type": "markdown",
   "metadata": {},
   "source": [
    "## Running R from python"
   ]
  },
  {
   "cell_type": "code",
   "execution_count": 34,
   "metadata": {
    "collapsed": false
   },
   "outputs": [
    {
     "data": {
      "text/plain": [
       "rpy2.rinterface.NULL"
      ]
     },
     "execution_count": 34,
     "metadata": {},
     "output_type": "execute_result"
    }
   ],
   "source": [
    "import rpy2\n",
    "import rpy2.robjects as robjects\n",
    "from rpy2.robjects.packages import importr\n",
    "import rpy2.robjects.packages as rpackages\n",
    "from rpy2.robjects.vectors import StrVector\n",
    "base = importr('base')\n",
    "utils = rpackages.importr('utils')\n",
    "utils.chooseCRANmirror(ind=1)"
   ]
  },
  {
   "cell_type": "code",
   "execution_count": 35,
   "metadata": {
    "collapsed": false
   },
   "outputs": [],
   "source": [
    "packnames = ['ggplot2']\n",
    "names_to_install = [x for x in packnames if not rpackages.isinstalled(x)]\n",
    "if len(names_to_install)>0:\n",
    "    utils.install_packages(StrVector(names_to_install))"
   ]
  },
  {
   "cell_type": "markdown",
   "metadata": {},
   "source": [
    "## Sentiment Analysis on countries"
   ]
  },
  {
   "cell_type": "code",
   "execution_count": 2,
   "metadata": {
    "collapsed": false
   },
   "outputs": [],
   "source": [
    "import nltk\n",
    "from nltk.tokenize import sent_tokenize\n",
    "from nltk.sentiment.vader import SentimentIntensityAnalyzer\n",
    "import re"
   ]
  },
  {
   "cell_type": "code",
   "execution_count": 103,
   "metadata": {
    "collapsed": false
   },
   "outputs": [
    {
     "data": {
      "text/plain": [
       "function"
      ]
     },
     "execution_count": 103,
     "metadata": {},
     "output_type": "execute_result"
    }
   ],
   "source": [
    "from nltk.classify import NaiveBayesClassifier\n",
    "from nltk.corpus import subjectivity\n",
    "from nltk.sentiment import SentimentAnalyzer\n",
    "from nltk.sentiment.util import *\n",
    "n_instances = 100\n",
    "subj_docs = [(sent,'subj') for sent in subjectivity.sents(categories='subj')[:n_instances]]\n",
    "obj_docs = [(sent,'obj') for sent in subjectivity.sents(categories='obj')[:n_instances]]\n",
    "# subj_docs[10],obj_docs[1]\n",
    "train_docs = subj_docs[:80]+obj_docs[:80]\n",
    "test_docs = subj_docs[80:100]+obj_docs[80:100]\n",
    "senti_analyser = SentimentAnalyzer()"
   ]
  },
  {
   "cell_type": "code",
   "execution_count": 2,
   "metadata": {
    "collapsed": false
   },
   "outputs": [
    {
     "data": {
      "text/plain": [
       "{'compound': -0.6808, 'neg': 0.697, 'neu': 0.303, 'pos': 0.0}"
      ]
     },
     "execution_count": 2,
     "metadata": {},
     "output_type": "execute_result"
    }
   ],
   "source": [
    "sent = \"He is a murderer\"\n",
    "sentiAnalyser = SentimentIntensityAnalyzer()\n",
    "sentiAnalyser.polarity_scores(sent)"
   ]
  },
  {
   "cell_type": "markdown",
   "metadata": {},
   "source": [
    "## Find sentiment of emails"
   ]
  },
  {
   "cell_type": "code",
   "execution_count": 8,
   "metadata": {
    "collapsed": false
   },
   "outputs": [
    {
     "name": "stdout",
     "output_type": "stream",
     "text": [
      "Total Email count by Hillary:  1993\n",
      "CPU times: user 1.24 s, sys: 20 ms, total: 1.26 s\n",
      "Wall time: 1.24 s\n",
      "[(552, (7, 0.0, 0.772)), (2240, (1, 0.0, 0.7)), (585, (3, 0.0, 0.531)), (1022, (2, 0.0, 0.508)), (2308, (1, 0.0, 0.483))]\n"
     ]
    }
   ],
   "source": [
    "def getSentiment(text):\n",
    "    pos = 0\n",
    "    neg = 0\n",
    "    neu = 0\n",
    "    if text=='':\n",
    "        return 0,pos,neg\n",
    "    global sentiAnalyser\n",
    "    text = text.replace('\\n',' ')\n",
    "    sentences = sent_tokenize(text)\n",
    "    sentences = [sent for sent in sentences if len(sent.split())>2]\n",
    "    for sent in sentences:\n",
    "        senti = sentiAnalyser.polarity_scores(sent)\n",
    "        if senti['neu']>=0.9:\n",
    "            neu += 1\n",
    "        else:\n",
    "            pos += senti['pos']\n",
    "            neg += senti['neg']\n",
    "    count = len(sentences)-neu\n",
    "    if count == 0:\n",
    "        return len(sentences),pos,neg\n",
    "    return len(sentences),pos/count,neg/count\n",
    "conn = sqlite3.connect('../hillary-clinton-emails/database.sqlite')\n",
    "sql = \"\"\"select e.Id, p.Name Sender, \n",
    "e.SenderPersonId Sender_Id, e.ExtractedDateSent, e.ExtractedBodyText\n",
    "from Emails e \n",
    "inner join Persons p on e.SenderPersonId=p.Id\n",
    "\"\"\"\n",
    "emails = pd.read_sql_query(sql,conn)\n",
    "emails['ExtractedDateSent']=emails.ExtractedDateSent.apply(clean_date)\n",
    "# Step 1: Mails from Hillary\n",
    "emails = emails[emails['Sender_Id']==80]\n",
    "# emails = emails.head(5)\n",
    "# emails.ExtractedBodyText.apply(getSentiment)\n",
    "print 'Total Email count by Hillary: ',emails.Id.count()\n",
    "sentiAnalyser = SentimentIntensityAnalyzer()\n",
    "%time sentiments = emails.ExtractedBodyText.apply(getSentiment)\n",
    "senti_map = zip(emails.Id.values,sentiments.values)\n",
    "senti_map = sorted(senti_map,key = lambda(item):item[1][2],reverse=True)\n",
    "print senti_map[:5]"
   ]
  },
  {
   "cell_type": "markdown",
   "metadata": {},
   "source": [
    "## Find occurance of country name in mails"
   ]
  },
  {
   "cell_type": "code",
   "execution_count": 10,
   "metadata": {
    "collapsed": false
   },
   "outputs": [],
   "source": [
    "import pycountry"
   ]
  },
  {
   "cell_type": "code",
   "execution_count": 11,
   "metadata": {
    "collapsed": false
   },
   "outputs": [],
   "source": [
    "def get_count(text):\n",
    "    global country_counter\n",
    "    global countries_new_name\n",
    "    for indx,country in enumerate(pycountry.countries):\n",
    "        name = country.name\n",
    "        if name in countries_new_name.keys():\n",
    "            name = countries_new_name[name]\n",
    "        name = '\\\\b'+name # Ensuring substring start with country name. eg.Indian, Syrian, India\n",
    "        all_matches = re.finditer(name,text,re.IGNORECASE)\n",
    "        n_occurrences = len(list(all_matches))\n",
    "        country_counter[indx] += n_occurrences\n",
    "country_counter = [0 for country in pycountry.countries]\n",
    "country_names = [country.name for country in pycountry.countries]\n",
    "countries_new_name = {'Syrian Arab Republic':'Syria','Russian Federation':'Russia','Iran, Islamic Republic of':\\\n",
    "                      'Iran','Korea, Democratic People\\'s Republic of':'Korea','Palestine, State of':'Palestine',\\\n",
    "                      'Venezuela, Bolivarian Republic of':'Venezuela'}\n",
    "emails.ExtractedBodyText.apply(get_count)\n",
    "# let's study count for some countries\n",
    "country2ind = {}\n",
    "for indx,country in enumerate(pycountry.countries):\n",
    "    country2ind[country.name]=indx\n",
    "country_name_count = zip(country_names,country_counter)\n",
    "country_name_count = sorted(country_name_count,key = lambda(item):item[1],reverse=True)"
   ]
  },
  {
   "cell_type": "code",
   "execution_count": 27,
   "metadata": {
    "collapsed": false
   },
   "outputs": [
    {
     "data": {
      "text/plain": [
       "<matplotlib.text.Text at 0x7f9360451c10>"
      ]
     },
     "execution_count": 27,
     "metadata": {},
     "output_type": "execute_result"
    },
    {
     "data": {
      "image/png": "[encoded data removed]",
      "text/plain": [
       "<matplotlib.figure.Figure at 0x7f9360393a90>"
      ]
     },
     "metadata": {},
     "output_type": "display_data"
    }
   ],
   "source": [
    "%matplotlib inline\n",
    "df = pd.DataFrame(np.array(country_counter),country_names)\n",
    "df = df[df[0]>1]\n",
    "ax = df.plot(kind='bar',legend=False,title='Occurance of Country names')\n",
    "ax.set_ylabel('Count')"
   ]
  },
  {
   "cell_type": "markdown",
   "metadata": {},
   "source": [
    "## Correlation between country vs average sentiment"
   ]
  },
  {
   "cell_type": "code",
   "execution_count": 55,
   "metadata": {
    "collapsed": false
   },
   "outputs": [],
   "source": [
    "def get_occurence_ct(text,country):\n",
    "    name = country.name\n",
    "    counter = 0\n",
    "    global countries_new_name\n",
    "    if name in countries_new_name.keys():\n",
    "        name = countries_new_name[name]\n",
    "    name = '\\\\b'+name # Ensuring substring start with country name. eg.Indian, Syrian, India\n",
    "    all_matches = re.finditer(name,text,re.IGNORECASE)\n",
    "    n_occurrences = len(list(all_matches))\n",
    "    counter += n_occurrences\n",
    "    abbr_to_ignore = [\"RE\", \"FM\", \"TV\", \"AL\", \"AQ\", \"LA\", \"BEN\"]\n",
    "    if country.alpha2 not in abbr_to_ignore:\n",
    "        name = '\\\\b'+country.alpha2+'\\\\b'\n",
    "        all_matches = re.finditer(name,text)\n",
    "        n_occurrences = len(list(all_matches))\n",
    "        counter += n_occurrences\n",
    "    if country.alpha3 not in abbr_to_ignore:\n",
    "        name = '\\\\b'+country.alpha3+'\\\\b'\n",
    "        all_matches = re.finditer(name,text)\n",
    "        n_occurrences = len(list(all_matches))\n",
    "        counter += n_occurrences\n",
    "    return counter\n",
    "def get_country_sentiment(country):\n",
    "    global sentiments\n",
    "    global emails\n",
    "    res_pos,res_neg = 0,0\n",
    "    counts = emails.ExtractedBodyText.apply(get_occurence_ct,args=(country,))\n",
    "    sentiments_pos = [tpl[1] for tpl in sentiments.values]\n",
    "    sentiments_neg = [tpl[2] for tpl in sentiments.values]\n",
    "    if sum(counts.values)>0:\n",
    "        res_pos = sum([ct*pos for ct,pos in zip(counts.values,sentiments_pos)])/sum(counts.values)\n",
    "        res_neg = sum([ct*neg for ct,neg in zip(counts.values,sentiments_neg)])/sum(counts.values)\n",
    "    return res_pos,res_neg\n",
    "countries = pd.Series([country for country in pycountry.countries])\n",
    "senti = countries.apply(get_country_sentiment)"
   ]
  },
  {
   "cell_type": "code",
   "execution_count": 58,
   "metadata": {
    "collapsed": false
   },
   "outputs": [
    {
     "data": {
      "text/plain": [
       "<matplotlib.text.Text at 0x7f9360047110>"
      ]
     },
     "execution_count": 58,
     "metadata": {},
     "output_type": "execute_result"
    },
    {
     "data": {
      "image/png": "[encoded data removed]",
      "text/plain": [
       "<matplotlib.figure.Figure at 0x7f9362e7ae90>"
      ]
     },
     "metadata": {},
     "output_type": "display_data"
    }
   ],
   "source": [
    "senti_pos = np.array([i[0] for i in senti])\n",
    "df = pd.DataFrame(senti_pos,country_names)\n",
    "df = df[df[0]>0.1]\n",
    "ax = df.plot(kind='bar',legend=False,title='Hillary\\'s Sentiment about countries')\n",
    "ax.set_ylabel('postivity')"
   ]
  },
  {
   "cell_type": "code",
   "execution_count": 60,
   "metadata": {
    "collapsed": false
   },
   "outputs": [
    {
     "data": {
      "text/plain": [
       "<matplotlib.text.Text at 0x7f935bd3c590>"
      ]
     },
     "execution_count": 60,
     "metadata": {},
     "output_type": "execute_result"
    },
    {
     "data": {
      "image/png": "[encoded data removed]",
      "text/plain": [
       "<matplotlib.figure.Figure at 0x7f936049ac10>"
      ]
     },
     "metadata": {},
     "output_type": "display_data"
    }
   ],
   "source": [
    "senti_neg = np.array([i[1] for i in senti])\n",
    "df = pd.DataFrame(senti_neg,country_names)\n",
    "df = df[df[0]>0]\n",
    "ax = df.plot(kind='bar',legend=False,title='Hillary\\'s Sentiment about countries')\n",
    "ax.set_ylabel('negativity')"
   ]
  }
 ],
 "metadata": {
  "anaconda-cloud": {},
  "kernelspec": {
   "display_name": "Python [default]",
   "language": "python",
   "name": "python2"
  },
  "language_info": {
   "codemirror_mode": {
    "name": "ipython",
    "version": 2
   },
   "file_extension": ".py",
   "mimetype": "text/x-python",
   "name": "python",
   "nbconvert_exporter": "python",
   "pygments_lexer": "ipython2",
   "version": "2.7.12"
  }
 },
 "nbformat": 4,
 "nbformat_minor": 1
}
